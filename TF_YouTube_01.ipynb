{
 "cells": [
  {
   "cell_type": "markdown",
   "metadata": {},
   "source": [
    "# Introduce TensorFlow 2.x"
   ]
  },
  {
   "cell_type": "markdown",
   "metadata": {},
   "source": [
    "## <span style=\"font-size:25px\">Schedule</span>"
   ]
  },
  {
   "cell_type": "markdown",
   "metadata": {},
   "source": [
    "<dl style=\"border:1px solid white; padding:10px\">\n",
    "<dt style=\"font-size:20px;\">\n",
    "▶ TensorFlow 2.x 기초<br></dt>\n",
    "<dd>- Eager Execution, Keras as High-Level API</dd>\n",
    "</dl>\n",
    "\n",
    "<dl style=\"border:1px solid white; padding:10px\">\n",
    "<dt style=\"font-size:20px;\">\n",
    "▶ Linear Regression <br></dt>\n",
    "<dd>- 선형회귀 개념, 동작원리, 손실함수, 예제</dd>\n",
    "</dl>\n",
    "\n",
    "<dl style=\"border:1px solid white; padding:10px\">\n",
    "<dt style=\"font-size:20px;\">\n",
    "▶ Logistic Regression (Classification)<br></dt>\n",
    "<dd>- 분류 (Classification) 개념, 동작원리, 손실함수, 예제</dd>\n",
    "</dl>\n",
    "\n",
    "<dl style=\"border:1px solid white; padding:10px\">\n",
    "<dt style=\"font-size:20px;\">\n",
    "▶ Neural Network<br></dt>\n",
    "<dd>- 신경망 개념, 동작원리, 예제 (MNIST, Fashion MNIST, ...)</dd>\n",
    "</dl>\n",
    "\n",
    "<dl style=\"border:1px solid white; padding:10px\">\n",
    "<dt style=\"font-size:20px;\">\n",
    "▶ CNN (Convolutional Neural Network<br></dt>\n",
    "<dd>- 컨볼루션 개념, 동작원리, 예제 (MNIST, Cifar 10, ...)</dd>\n",
    "</dl>\n",
    "\n",
    "<dl style=\"border:1px solid white; padding:10px\">\n",
    "<dt style=\"font-size:20px;\">\n",
    "▶ RNN (Recurrent Neural Network)<br></dt>\n",
    "<dd>- BasicRNN / LSTM / GRU 동작원리, 아키텍처, 예제 (주식가격 예측)</dd>\n",
    "</dl>\n",
    "\n",
    "<dl style=\"border:1px solid white; padding:10px\">\n",
    "<dt style=\"font-size:20px;\">\n",
    "▶ Transfer Learning<br></dt>\n",
    "<dd>- 전이학습 개념, pre-trained model / fine tuning</dd>\n",
    "</dl>"
   ]
  },
  {
   "cell_type": "code",
   "execution_count": 1,
   "metadata": {},
   "outputs": [
    {
     "name": "stdout",
     "output_type": "stream",
     "text": [
      "Initial W = [0.19768645]\n",
      "=============================================\n",
      "step = 0 , W = [1.1976864]\n",
      "step = 1 , W = [2.1976864]\n"
     ]
    }
   ],
   "source": [
    "import tensorflow as tf\n",
    "\n",
    "W = tf.Variable(tf.random.normal([1]))      # 가우시안 분포\n",
    "print('Initial W =', W.numpy())\n",
    "print(\"=============================================\")\n",
    "\n",
    "# Session 생성 없이 즉시 실행 (Eager Execution)\n",
    "# numpy() 메서드 사용하면 numpy 값을 리턴 해 줌\n",
    "\n",
    "for step in range(2):\n",
    "    W = W + 1.0\n",
    "    print('step =', step, ', W =', W.numpy())"
   ]
  }
 ],
 "metadata": {
  "kernelspec": {
   "display_name": "tfgpu",
   "language": "python",
   "name": "python3"
  },
  "language_info": {
   "codemirror_mode": {
    "name": "ipython",
    "version": 3
   },
   "file_extension": ".py",
   "mimetype": "text/x-python",
   "name": "python",
   "nbconvert_exporter": "python",
   "pygments_lexer": "ipython3",
   "version": "3.9.13"
  }
 },
 "nbformat": 4,
 "nbformat_minor": 2
}
