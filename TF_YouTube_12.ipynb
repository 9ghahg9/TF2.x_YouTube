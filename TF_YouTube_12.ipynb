{
 "cells": [
  {
   "cell_type": "markdown",
   "metadata": {},
   "source": [
    "# 컨볼루션 개념"
   ]
  },
  {
   "cell_type": "markdown",
   "metadata": {},
   "source": [
    "## <span style=\"font-size:25px\">컨볼루션(Convolution) 정의</span>"
   ]
  },
  {
   "cell_type": "markdown",
   "metadata": {},
   "source": [
    "$\n",
    "\\boxed{\n",
    "  \\qquad f(t) * g(t) = \\int_{-\\infty}^{\\infty} f(τ)g(t-τ)dτ \\qquad\n",
    "}\n",
    "$\n",
    "\n",
    "<div style=\"font-size:20px\">\n",
    "컨볼루션(Convolution)이라는 것은 두 개의 함수 f, g가 있을 때, ① 적분변수 τ에 대해서 \n",
    "<br>② 하나의 함수를 반전(reverse)하고 시간 t만큼 전의(shift)시킨 후에, \n",
    "<br>③ 다른 하나의 함수와 곱한 결과를 ④ 전체 구간에서 적분하는 것을 의미함\n",
    "</div>\n",
    "\n",
    "$\n",
    "\\boxed{\n",
    "  \\qquad f(t) * g(t) = \\int_{-\\infty}^{\\infty} f(x)g(x-t)dx \\qquad\n",
    "}\n",
    "$\n",
    "\n",
    "<div style=\"font-size:20px\">\n",
    "① 변수 τ대신에 x &nbsp; ② 시간 t만큼 전이(shift) &nbsp; ③ 곱셈 &nbsp; ④ 덧셈\n",
    "</div>"
   ]
  },
  {
   "cell_type": "markdown",
   "metadata": {},
   "source": [
    "### <span style=\"font-size:25px\">데이터 관점에서의 곱셈과 덧셈</span>"
   ]
  },
  {
   "cell_type": "markdown",
   "metadata": {},
   "source": [
    "<img src=\"picture/TF_img_12_1.png\" alt=\"TF_img_12_1\" width=798>\n",
    "\n",
    "||<div style=\"font-size:20px\">기본 수식</div>|<div style=\"font-size:20px\">수식 해석</div>|<div style=\"font-size:20px\">컨볼루션 수식 적용</div>|<div style=\"font-size:20px\">데이터 관점에서의 해석</div>|\n",
    "|---|---|---|---|---|\n",
    "|곱셈|3 × 1 = 3<br>3 × 0 = 0<br>3 × 2 = 6|3 × 1 = 3<br>3 × 0 = 0<br>3 × 2 = 6<br>수식 앞 3을 <br>원본 데이터라 할 때, <br>수식 뒤 값들은 원본을 <br>변화 시키는 값|3 × 1 = 3<br>3 × 0 = 0<br>3 × 2 = 6<br>원본 데이터는 f(x), <br>변화 데이터는 g(x-t)|데이터 관점에서 곱셈 연산은 <br>원본 데이터 또는 입력 <br>데이터에 변화(Variation)를 <br>주어 출력 데이터를 만들어 내는 <br>역할을 수행함|\n",
    "|덧셈|1 + 2 = 3|$\\frac{1 + 2}{2}$ × 2|<span style=\"text-decoration: underline; text-decoration-color: red; white-space: nowrap; text-underline-offset:3px\">1 + 2</span> = 3 <br>$\\int_{-\\infty}^{\\infty}$|데이터 관점에서 덧셈 연산은 <br>데이터의 평균(mean)을 구한<br>다는 의미를 내포하고 있음|\n",
    "\n",
    "<br><div style=\"font-size:20px; color:FE3030\">컨볼루션 수식에서 ②, ③ 부분은 원본 데이터 또는 입력 데이터에 \n",
    "<br>변화를 주어서, 그 변화된 값들의 평균을 구한다는 의미를 나타내고 있음\n",
    "</div>"
   ]
  },
  {
   "cell_type": "markdown",
   "metadata": {},
   "source": [
    "### <span style=\"font-size:25px\">시간 전이(time shift)</span>"
   ]
  },
  {
   "cell_type": "markdown",
   "metadata": {},
   "source": [
    "<img src=\"picture/TF_img_12_2.png\" alt=\"TF_img_12_2\" width=798>"
   ]
  },
  {
   "cell_type": "markdown",
   "metadata": {},
   "source": [
    "### <span style=\"font-size:25px\">데이터 관점(시간에 따른 이동 => 곱셈 => 덧셈)</span>"
   ]
  },
  {
   "cell_type": "markdown",
   "metadata": {},
   "source": [
    "<table style=\"font-size:20px\">\n",
    "<tr>\n",
    "<td style=\"text=align:center;\">\n",
    "해<br>석<br>&nbsp;1\n",
    "</td>\n",
    "<td style=\"text-align:left;width:530px;\">\n",
    "    시간의 흐름에 따라 데이터 g(x)가 이동하면서, \n",
    "<br>입력 데이터 f(x)를 평균적으로 얼마나 변화에 영향을 주는 \n",
    "<br>것인지를 컨볼루션(Convolution)으로 정의할 수 있음\n",
    "</td>\n",
    "</td>\n",
    "</tr>\n",
    "\n",
    "<tr>\n",
    "<td style=\"text=align:center;\">\n",
    "해<br>석<br>&nbsp;2\n",
    "</td>\n",
    "<td style=\"text-align:left;\">\n",
    "    시간의 흐름에 따라 움직이는 데이터 g(x)에 의해서, \n",
    "<br>입력 데이터 f(x)를 평균적으로 얼마나 변화하는지 나타내는 \n",
    "<br>것을 컨볼루션(Convolution)으로 정의할 수 있음\n",
    "</td>\n",
    "</td>\n",
    "</tr>\n",
    "</table>"
   ]
  },
  {
   "cell_type": "markdown",
   "metadata": {},
   "source": [
    "## <span style=\"font-size:25px\">CNN에서 컨볼루션 연산 - 데이터 관점</span>"
   ]
  },
  {
   "cell_type": "markdown",
   "metadata": {},
   "source": [
    "ML_YouTube_32.ipynb를 참고(나아가 TF_YouTube_13.ipynb이나 강의 13강을 이로 대체함.)"
   ]
  }
 ],
 "metadata": {
  "language_info": {
   "name": "python"
  }
 },
 "nbformat": 4,
 "nbformat_minor": 2
}
