{
 "cells": [
  {
   "cell_type": "markdown",
   "metadata": {},
   "source": [
    "# LSTM 구조와 동작원리"
   ]
  },
  {
   "cell_type": "markdown",
   "metadata": {},
   "source": [
    "## <span style=\"font-size:25px\">SimpleRNN 단점 - 장기 의존성 문제(the problem of long-term dependency)</span>"
   ]
  },
  {
   "cell_type": "markdown",
   "metadata": {},
   "source": [
    "<dl>\n",
    "<dt style=\"font-size:20px\">▶ 장기 의존성 문제는 입력 데이터가 많아 질수록 SimpleRNN 레이어, 즉 은닉층에서 \n",
    "<br>　 보관하는 과거의 정보가 마지막 레이어까지 충분히 전달되지 못하는 현상을 의미함\n",
    "</dt><br>\n",
    "<dd>\n",
    "<img src=\"picture/TF_img_20_1.png\" alt=\"TF_img_20_1\" width=650>\n",
    "</dd>\n",
    "</dl>"
   ]
  },
  {
   "cell_type": "markdown",
   "metadata": {},
   "source": [
    "## <span style=\"font-size:25px\">SimpleRNN vs LSTM</span>"
   ]
  },
  {
   "cell_type": "markdown",
   "metadata": {},
   "source": [
    "<dl>\n",
    "<dt style=\"font-size:20px\">\n",
    "\n",
    "▶ LSTM 레이어는 시간 t에서의 출력값 $\\text{H}_\\text{t}$ 이외에, LSTM 레이어 사이에서 공유되는 \n",
    "<br>　 셀 상태(cell state) $\\text{C}_\\text{t}$ 라는 변수가 추가적으로 공유되는 특징이 있음\n",
    "\n",
    "</dt><br>\n",
    "<dd>\n",
    "<img src=\"picture/TF_img_20_2.png\" alt=\"TF_img_20_2\" width=650>\n",
    "</dd>\n",
    "</dl>"
   ]
  },
  {
   "cell_type": "markdown",
   "metadata": {},
   "source": [
    "## <span style=\"font-size:25px\">LSTM 구조</span>"
   ]
  },
  {
   "cell_type": "markdown",
   "metadata": {},
   "source": [
    "### <span style=\"font-size:23px\">개요</span>"
   ]
  },
  {
   "cell_type": "markdown",
   "metadata": {},
   "source": [
    "<dl>\n",
    "<dt style=\"font-size:20px\">▶ LSTM 핵심은 이전 단계 정보를 memory cell에 저장하여 다음 단계로 전달하는 것임\n",
    "</dt><br>\n",
    "<dd style=\"font-size:18\">\n",
    "✔ 즉 LSTM은 현재 시점의 정보를 바탕으로 과거 내용을 얼마나 잊을 지 또는 기억할 지 등을 \n",
    "<br>　 계산하고, 그 결과에 현재 정보를 추가해서 다음 시점으로 정보를 전달함\n",
    "<br><br>\n",
    "✔ 이러한 기능을 구현하기 위해 forget gate, input gate, output gate 등으로 구\n",
    "<br>　 성되며 이러한 gate는 memory cell에 정보를 저장하고 다음 단계로 전달하는 역할을 수행\n",
    "<br><br>\n",
    "<img src=\"picture/TF_img_20_3.png\" alt=\"TF_img_20_3\" width=650>\n",
    "</dd>\n",
    "</dl>"
   ]
  },
  {
   "cell_type": "markdown",
   "metadata": {},
   "source": [
    "### <span style=\"font-size:23px\">forget gate</span>"
   ]
  },
  {
   "cell_type": "markdown",
   "metadata": {},
   "source": [
    "<img src=\"picture/TF_img_20_4.png\" alt=\"TF_img_20_4\" width=650>\n",
    "<br><br>\n",
    "\n",
    "<span style=\"font-size:20px; color:#FF5454\">\n",
    "\n",
    "$\\text{F}_\\text{t} = \\text{sigmoid}(\\text{U}_\\text{t}\\text{X}_\\text{t} \\,+\\, \\text{W}_\\text{f}\\text{H}_\\text{t-1} \\,+\\, \\text{b}_\\text{f})$\n",
    "\n",
    "</span>\n",
    "\n",
    "\n",
    "- <span style=\"font-size:18px;\">forget gate는 과거의 정보를 얼마나 잊을 지(또는 기억할 지) 결정하는 게이트이며, \n",
    "<br>① 현 시점의 데이터 $\\text{X}_\\text{t}$ 와 과거의 은닉층 값 $\\text{H}_\\text{t-1}$ 에 각각의 가중치 $\\text{W}_\\text{f}$ , $\\text{U}_\\text{f}$ 곱한 후에 \n",
    "<br>② 그 값들을 더한 후 simgoid 함수를 적용하는 과정임\n",
    "</span>\n",
    "\n",
    "- <span style=\"font-size:18px;\">sigmoid 함수 값은 0~1 사이 값을 가지므로, 계산 값이 1에 가깝다면 과거 정보를 많이 활\n",
    "<br>용한다는 의미이고, 만약 sigmoid 값이 0에 가깝다면 과거 정보를 많이 잃게 되는 원리임\n",
    "</span>"
   ]
  },
  {
   "cell_type": "markdown",
   "metadata": {},
   "source": [
    "### <span style=\"font-size:23px\">input gate</span>"
   ]
  },
  {
   "cell_type": "markdown",
   "metadata": {},
   "source": [
    "<img src=\"picture/TF_img_20_5.png\" alt=\"TF_img_20_5\" width=650>\n",
    "<br><br>\n",
    "\n",
    "<span style=\"font-size:20px; color:#FF5454\">\n",
    "\n",
    "$\\text{\\~{C}}_\\text{t} = \\text{tanh}(\\text{U}_\\text{c}\\text{X}_\\text{t} \\,+\\, \\text{W}_\\text{c}\\text{H}_\\text{t-1} \\,+\\, \\text{b}_\\text{c})$\n",
    "\n",
    "$\\text{I}_\\text{t} = \\text{sigmoid}(\\text{U}_\\text{in}\\text{X}_\\text{t} \\,+\\, \\text{W}_\\text{in}\\text{H}_\\text{t-1} \\,+\\, \\text{b}_\\text{i})$\n",
    "\n",
    "</span>\n",
    "\n",
    "\n",
    "- <span style=\"font-size:18px;\">input gate는 ① 현재 시점의 데이터 \n",
    "$\\text{X}_\\text{t}$ 와 과거의 은닉층 값 $\\text{H}_\\text{t-1}$ 에 각각의 가중치 $\\text{W}_\\text{in}$ , $\\text{U}_\\text{in}$ \n",
    "<br> 곱하고 더한 결과에 sigmoid 함수를 적용하여, 어떤 정보를 업데이트 할 지 결정하고 $(\\text{I}_\\text{t})$ \n",
    "<br>② 현재 시점의 데이터 $\\text{X}_\\text{t}$ 와 과거 은닉층 값 $\\text{H}_\\text{t-1}$ 에 각각의 가중치 $\\text{W}_\\text{c}$ , $\\text{U}_\\text{c}$ 곱하여 더한 후 \n",
    "<br>tanh 함수를 적용하여 현재 시점의 새로운 정보를 생성함 $(\\text{\\~{C}}_\\text{t})$\n",
    "\n",
    "</span>\n",
    "\n",
    "- <span style=\"font-size:18px;\">즉, 현 시점에서 실제로 갖고 있는 정보가 얼마나 중요한 지를 반영하여 cell에 기록함\n",
    "</span>"
   ]
  },
  {
   "cell_type": "markdown",
   "metadata": {},
   "source": [
    "### <span style=\"font-size:23px\">cell gate</span>"
   ]
  },
  {
   "cell_type": "markdown",
   "metadata": {},
   "source": [
    "<img src=\"picture/TF_img_20_6.png\" alt=\"TF_img_20_6\" width=650>\n",
    "<br><br>\n",
    "\n",
    "<span style=\"font-size:20px; color:#FF5454\">\n",
    "\n",
    "$\\text{C}_\\text{t} = \\text{F}_\\text{t}\\text{C}_\\text{t-1} \\,+\\, \\text{I}_\\text{t}\\text{\\~{C}}_\\text{t}$\n",
    "\n",
    "</span>\n",
    "\n",
    "\n",
    "- <span style=\"font-size:18px;\">cell state는 forget gate 출력 값 \n",
    "$\\text{F}_\\text{t}$ , input gate 출력 $\\text{I}_\\text{t}$ , $\\text{\\~{C}}_\\text{t}$ 값을 이용하여 memory cell에 \n",
    "<br>저장하는 단계임\n",
    "</span>\n",
    "\n",
    "- <span style=\"font-size:18px;\">즉, 과거의 정보를 forget gate에서 계산된 만큼 잊고(또는 기억하고), 현 시점의 정보 값에 \n",
    "<br>입력 게이트의 중요도만큼 곱해준 것을 더해서 현재 시점 기준의 memory cell 값을 계산\n",
    "<br><span style=\"font-size:15px;\">※ 곱하기 표시는 모두 *: pointwise operation을 나타냄</span>\n",
    "</span>"
   ]
  },
  {
   "cell_type": "markdown",
   "metadata": {},
   "source": [
    "### <span style=\"font-size:23px\">output gate</span>"
   ]
  },
  {
   "cell_type": "markdown",
   "metadata": {},
   "source": [
    "<img src=\"picture/TF_img_20_7.png\" alt=\"TF_img_20_7\" width=650>\n",
    "<br><br>\n",
    "\n",
    "<span style=\"font-size:20px; color:#FF5454\">\n",
    "\n",
    "$\\text{H}_\\text{t} = \\text{O}_\\text{t} \\,*\\, \\text{tanh}(\\text{C}_\\text{t})$\n",
    "\n",
    "$\\text{O}_\\text{t} = \\text{sigmoid}(\\text{U}_\\text{o}\\text{X}_\\text{t} \\,+\\, \\text{W}_\\text{o}\\text{H}_\\text{t-1} \\,+\\, \\text{b}_\\text{o})$\n",
    "\n",
    "</span>\n",
    "\n",
    "\n",
    "- <span style=\"font-size:18px;\">output gate는 forget gate와 input gate에 의해서 변경된 형재 시점의 memory cell state \n",
    "<br>$\\text{C}_\\text{t}$ 값을, 얼마나 빼내서 다음 레이어로 전달 할 지 결정하는 단계\n",
    "</span>\n",
    "\n",
    "- <span style=\"font-size:18px;\">이때 현재 시점의 LSTM 출력 값 \n",
    "$\\text{H}_\\text{t} = \\text{O}_\\text{t} \\,*\\, \\text{tanh}(\\text{C}_\\text{t})$ 수식에서의 곱하기 표시는 pointwise  \n",
    "operation을 나타냄\n",
    "</span>"
   ]
  },
  {
   "cell_type": "markdown",
   "metadata": {},
   "source": [
    "## <span style=\"font-size:25px\">LSTM summary</span>"
   ]
  },
  {
   "cell_type": "markdown",
   "metadata": {},
   "source": [
    "<img src=\"picture/TF_img_20_8.png\" alt=\"TF_img_20_8\" width=650>\n",
    "<br>\n",
    "<table style=\"font=size:20px\">\n",
    "<tr>\n",
    "<td style=\"text-align:center\">계층</td>\n",
    "<td style=\"text-align:center\" colspan='2'>수식</td>\n",
    "<td style=\"text-align:center\">학습 파라미터</td>\n",
    "</tr>\n",
    "\n",
    "<tr>\n",
    "<td style=\"text-align:center\" rowspan='4'>LSTM<br>계층</td>\n",
    "\n",
    "<td style=\"text-align:center\">forget gate</td>\n",
    "<td>\n",
    "\n",
    "$\\text{F}_\\text{t} = \\text{sigmoid}(\\text{U}_\\text{f}\\text{X}_\\text{t} \\,+\\, \\text{W}_\\text{f}\\text{H}_\\text{t-1} \\,+\\, \\text{b}_\\text{f})$\n",
    "</td>\n",
    "<td style=\"text-align:center\">\n",
    "\n",
    "$\\text{U}_\\text{f}$ , $\\text{W}_\\text{f}$ , $\\text{b}_\\text{f}$\n",
    "</td>\n",
    "</tr>\n",
    "\n",
    "<tr>\n",
    "<td style=\"text-align:center\">input gate</td>\n",
    "<td>\n",
    "\n",
    "$\\text{\\~{C}}_\\text{t} = \\text{tanh}(\\text{U}_\\text{c}\\text{X}_\\text{t} \\,+\\, \\text{W}_\\text{c}\\text{W}_\\text{t-1} \\,+\\, \\text{b}_\\text{c})$\n",
    "\n",
    "$\\text{I}_\\text{t} = \\text{sigmoid}(\\text{U}_\\text{in}\\text{X}_\\text{t} \\,+\\, \\text{W}_\\text{in}\\text{H}_\\text{t-1} \\,+\\, \\text{b}_\\text{i})$\n",
    "</td>\n",
    "<td style=\"text-align:center\">\n",
    "\n",
    "$\\text{U}_\\text{c}$ , $\\text{W}_\\text{c}$ , $\\text{b}_\\text{c}$\n",
    "\n",
    "$\\text{U}_\\text{in}$ , $\\text{W}_\\text{in}$ , $\\text{b}_\\text{i}$\n",
    "</tr>\n",
    "\n",
    "<tr>\n",
    "<td style=\"text-align:center\">cell state</td>\n",
    "<td>\n",
    "\n",
    "$\\text{C}_\\text{t} = \\text{F}_\\text{t}\\text{C}_\\text{t-1} \\,+\\, \\text{I}_\\text{t}\\text{\\~{C}}_\\text{t}$\n",
    "</td>\n",
    "<td style=\"text-align:center\">\n",
    "---\n",
    "</td>\n",
    "</tr>\n",
    "\n",
    "<tr>\n",
    "<td style=\"text-align:center\">output gate</td>\n",
    "<td>\n",
    "\n",
    "$\\text{H}_\\text{t} = \\text{O}_\\text{t} \\,*\\, \\text{tanh}(\\text{C}_\\text{t})$\n",
    "\n",
    "$\\text{O}_\\text{t} = \\text{sigmoid}(\\text{U}_\\text{o}\\text{X}_\\text{t} \\,+\\, \\text{W}_\\text{o}\\text{H}_\\text{t-1} \\,+\\, \\text{b}_\\text{o})$\n",
    "</td>\n",
    "<td style=\"text-align:center\">\n",
    "\n",
    "$\\text{U}_\\text{o}$ , $\\text{W}_\\text{o}$ , $\\text{b}_\\text{o}$\n",
    "</td>\n",
    "</tr>\n",
    "\n",
    "<tr>\n",
    "<td style=\"text-align:center\" colspan='2'>출력 계층</td>\n",
    "\n",
    "<td>\n",
    "\n",
    "$\\text{y}_\\text{t} = \\text{activation\\_function}(\\text{V}_\\text{out}\\text{H}_\\text{t} \\,+\\, \\text{b}_\\text{out})$\n",
    "</td>\n",
    "<td style=\"text-align:center\">\n",
    "\n",
    "$\\text{V}_\\text{out}$ , $\\text{b}_\\text{out}$\n",
    "</td>\n",
    "</tr>\n",
    "</table>"
   ]
  }
 ],
 "metadata": {
  "kernelspec": {
   "display_name": "tfgpu",
   "language": "python",
   "name": "python3"
  },
  "language_info": {
   "name": "python",
   "version": "3.9.13"
  }
 },
 "nbformat": 4,
 "nbformat_minor": 2
}
