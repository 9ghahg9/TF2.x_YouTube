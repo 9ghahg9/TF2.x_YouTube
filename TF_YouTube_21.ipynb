{
 "cells": [
  {
   "cell_type": "markdown",
   "metadata": {},
   "source": [
    "# LSTM 활용한 삼성전자 주가 예측"
   ]
  },
  {
   "cell_type": "markdown",
   "metadata": {},
   "source": [
    "## <span style=\"font-size:25px\">개발 과정 - 시계열 데이터 분석 및 예측</span>"
   ]
  },
  {
   "cell_type": "markdown",
   "metadata": {},
   "source": [
    "<dl>\n",
    "<dt style=\"font-size:20px\">▶ 데이터 로드 및 분포 확인</dt>\n",
    "<dd style=\"font-size:18px\">\n",
    "✔ dt=pd.read_csv(), df.describe(), df.hist(), plot() 등\n",
    "</dd>\n",
    "\n",
    "<br>\n",
    "<dt style=\"font-size:20px\">▶ 데이터 전처리</dt>\n",
    "<dd style=\"font-size:18px\">\n",
    "✔ outlier / missing value 확인 후 대체(또는 삭제) 처리\n",
    "<br>\n",
    "<br>✔ 데이터 정규화(normalization) / 표준화(standardization)\n",
    "<br>\n",
    "<br>✔ 딥러닝 학습을 위한 feature column / label column 정의\n",
    "</dd>\n",
    "\n",
    "<br>\n",
    "<dt style=\"font-size:20px\">▶ 데이터 생성</dt>\n",
    "<dd style=\"font-size:18px\">\n",
    "✔ window size 설정 후 feature / label 시계열 데이터 생성\n",
    "<br>\n",
    "<br>✔ 학습 데이터 생성. 이때 입력 데이터는 (batch_size, time_step, \n",
    "<br>　 input_dims) 형태의 3차원 텐서로 생성되어야 함\n",
    "</dd>\n",
    "\n",
    "<br>\n",
    "<dt style=\"font-size:20px\">▶ 순환신경망 모델 구축 및 학습</dt>\n",
    "</dl>"
   ]
  },
  {
   "cell_type": "markdown",
   "metadata": {},
   "source": [
    "### <span style=\"font-size:25px\">데이터 로드 및 분포확인</span>"
   ]
  },
  {
   "cell_type": "code",
   "execution_count": 13,
   "metadata": {},
   "outputs": [],
   "source": [
    "import numpy as np\n",
    "import pandas as pd\n",
    "import matplotlib.pyplot as plt\n",
    "import FinanceDataReader as fdr\n",
    "import tensorflow as tf\n",
    "from tensorflow.keras import Sequential\n",
    "from tensorflow.keras.layers import LSTM, Dense, Dropout"
   ]
  },
  {
   "cell_type": "code",
   "execution_count": 14,
   "metadata": {},
   "outputs": [
    {
     "data": {
      "text/html": [
       "<div>\n",
       "<style scoped>\n",
       "    .dataframe tbody tr th:only-of-type {\n",
       "        vertical-align: middle;\n",
       "    }\n",
       "\n",
       "    .dataframe tbody tr th {\n",
       "        vertical-align: top;\n",
       "    }\n",
       "\n",
       "    .dataframe thead th {\n",
       "        text-align: right;\n",
       "    }\n",
       "</style>\n",
       "<table border=\"1\" class=\"dataframe\">\n",
       "  <thead>\n",
       "    <tr style=\"text-align: right;\">\n",
       "      <th></th>\n",
       "      <th>Unnamed: 0</th>\n",
       "      <th>Open</th>\n",
       "      <th>High</th>\n",
       "      <th>Low</th>\n",
       "      <th>Close</th>\n",
       "      <th>Adj Close</th>\n",
       "      <th>Volume</th>\n",
       "      <th>MA3</th>\n",
       "      <th>MA5</th>\n",
       "    </tr>\n",
       "  </thead>\n",
       "  <tbody>\n",
       "    <tr>\n",
       "      <th>0</th>\n",
       "      <td>2000-01-04</td>\n",
       "      <td>6000.0</td>\n",
       "      <td>6110.0</td>\n",
       "      <td>5660.0</td>\n",
       "      <td>6110.0</td>\n",
       "      <td>4375.398926</td>\n",
       "      <td>74195000</td>\n",
       "      <td>NaN</td>\n",
       "      <td>NaN</td>\n",
       "    </tr>\n",
       "    <tr>\n",
       "      <th>1</th>\n",
       "      <td>2000-01-05</td>\n",
       "      <td>5800.0</td>\n",
       "      <td>6060.0</td>\n",
       "      <td>5520.0</td>\n",
       "      <td>5580.0</td>\n",
       "      <td>3995.864990</td>\n",
       "      <td>74680000</td>\n",
       "      <td>NaN</td>\n",
       "      <td>NaN</td>\n",
       "    </tr>\n",
       "    <tr>\n",
       "      <th>2</th>\n",
       "      <td>2000-01-06</td>\n",
       "      <td>5750.0</td>\n",
       "      <td>5780.0</td>\n",
       "      <td>5580.0</td>\n",
       "      <td>5620.0</td>\n",
       "      <td>4024.508301</td>\n",
       "      <td>54390000</td>\n",
       "      <td>5770.000000</td>\n",
       "      <td>NaN</td>\n",
       "    </tr>\n",
       "    <tr>\n",
       "      <th>3</th>\n",
       "      <td>2000-01-07</td>\n",
       "      <td>5560.0</td>\n",
       "      <td>5670.0</td>\n",
       "      <td>5360.0</td>\n",
       "      <td>5540.0</td>\n",
       "      <td>3967.220947</td>\n",
       "      <td>40305000</td>\n",
       "      <td>5580.000000</td>\n",
       "      <td>NaN</td>\n",
       "    </tr>\n",
       "    <tr>\n",
       "      <th>4</th>\n",
       "      <td>2000-01-10</td>\n",
       "      <td>5600.0</td>\n",
       "      <td>5770.0</td>\n",
       "      <td>5580.0</td>\n",
       "      <td>5770.0</td>\n",
       "      <td>4131.925293</td>\n",
       "      <td>46880000</td>\n",
       "      <td>5643.333333</td>\n",
       "      <td>5724.0</td>\n",
       "    </tr>\n",
       "  </tbody>\n",
       "</table>\n",
       "</div>"
      ],
      "text/plain": [
       "   Unnamed: 0    Open    High  ...    Volume          MA3     MA5\n",
       "0  2000-01-04  6000.0  6110.0  ...  74195000          NaN     NaN\n",
       "1  2000-01-05  5800.0  6060.0  ...  74680000          NaN     NaN\n",
       "2  2000-01-06  5750.0  5780.0  ...  54390000  5770.000000     NaN\n",
       "3  2000-01-07  5560.0  5670.0  ...  40305000  5580.000000     NaN\n",
       "4  2000-01-10  5600.0  5770.0  ...  46880000  5643.333333  5724.0\n",
       "\n",
       "[5 rows x 9 columns]"
      ]
     },
     "execution_count": 14,
     "metadata": {},
     "output_type": "execute_result"
    }
   ],
   "source": [
    "raw_df = pd.read_csv('./datafile/삼성전자_MA3_MA5.csv')\n",
    "raw_df.head()"
   ]
  },
  {
   "cell_type": "code",
   "execution_count": 15,
   "metadata": {},
   "outputs": [
    {
     "name": "stderr",
     "output_type": "stream",
     "text": [
      "C:\\Users\\skygr\\AppData\\Local\\Temp\\ipykernel_41940\\4086856907.py:6: UserWarning: No artists with labels found to put in legend.  Note that artists whose label start with an underscore are ignored when legend() is called with no argument.\n",
      "  plt.legend(loc='best')\n"
     ]
    },
    {
     "data": {
      "image/png": "[encoded data removed]",
      "text/plain": [
       "<Figure size 700x400 with 1 Axes>"
      ]
     },
     "metadata": {},
     "output_type": "display_data"
    }
   ],
   "source": [
    "plt.figure(figsize=(7, 4))\n",
    "\n",
    "plt.title('SAMSUNG ELECTRONIC STCOK PRICE')\n",
    "plt.xlabel('period (day)')\n",
    "plt.ylabel('price (won)')\n",
    "plt.legend(loc='best')\n",
    "plt.plot(raw_df['Adj Close'], label='Adj Close', color='b')\n",
    "plt.grid()\n",
    "plt.show()"
   ]
  },
  {
   "cell_type": "markdown",
   "metadata": {},
   "source": [
    "#### <span style=\"font-size:20px\">데이터 불러온 후 저장</span>"
   ]
  },
  {
   "cell_type": "code",
   "execution_count": 5,
   "metadata": {},
   "outputs": [
    {
     "data": {
      "text/html": [
       "<div>\n",
       "<style scoped>\n",
       "    .dataframe tbody tr th:only-of-type {\n",
       "        vertical-align: middle;\n",
       "    }\n",
       "\n",
       "    .dataframe tbody tr th {\n",
       "        vertical-align: top;\n",
       "    }\n",
       "\n",
       "    .dataframe thead th {\n",
       "        text-align: right;\n",
       "    }\n",
       "</style>\n",
       "<table border=\"1\" class=\"dataframe\">\n",
       "  <thead>\n",
       "    <tr style=\"text-align: right;\">\n",
       "      <th></th>\n",
       "      <th>Open</th>\n",
       "      <th>High</th>\n",
       "      <th>Low</th>\n",
       "      <th>Close</th>\n",
       "      <th>Volume</th>\n",
       "      <th>Adj Close</th>\n",
       "    </tr>\n",
       "  </thead>\n",
       "  <tbody>\n",
       "    <tr>\n",
       "      <th>2000-01-04</th>\n",
       "      <td>6000.0</td>\n",
       "      <td>6110.0</td>\n",
       "      <td>5660.0</td>\n",
       "      <td>6110.0</td>\n",
       "      <td>74195000</td>\n",
       "      <td>4375.398926</td>\n",
       "    </tr>\n",
       "    <tr>\n",
       "      <th>2000-01-05</th>\n",
       "      <td>5800.0</td>\n",
       "      <td>6060.0</td>\n",
       "      <td>5520.0</td>\n",
       "      <td>5580.0</td>\n",
       "      <td>74680000</td>\n",
       "      <td>3995.864990</td>\n",
       "    </tr>\n",
       "    <tr>\n",
       "      <th>2000-01-06</th>\n",
       "      <td>5750.0</td>\n",
       "      <td>5780.0</td>\n",
       "      <td>5580.0</td>\n",
       "      <td>5620.0</td>\n",
       "      <td>54390000</td>\n",
       "      <td>4024.508301</td>\n",
       "    </tr>\n",
       "    <tr>\n",
       "      <th>2000-01-07</th>\n",
       "      <td>5560.0</td>\n",
       "      <td>5670.0</td>\n",
       "      <td>5360.0</td>\n",
       "      <td>5540.0</td>\n",
       "      <td>40305000</td>\n",
       "      <td>3967.220947</td>\n",
       "    </tr>\n",
       "    <tr>\n",
       "      <th>2000-01-10</th>\n",
       "      <td>5600.0</td>\n",
       "      <td>5770.0</td>\n",
       "      <td>5580.0</td>\n",
       "      <td>5770.0</td>\n",
       "      <td>46880000</td>\n",
       "      <td>4131.925293</td>\n",
       "    </tr>\n",
       "    <tr>\n",
       "      <th>...</th>\n",
       "      <td>...</td>\n",
       "      <td>...</td>\n",
       "      <td>...</td>\n",
       "      <td>...</td>\n",
       "      <td>...</td>\n",
       "      <td>...</td>\n",
       "    </tr>\n",
       "    <tr>\n",
       "      <th>2025-01-21</th>\n",
       "      <td>53700.0</td>\n",
       "      <td>54300.0</td>\n",
       "      <td>53300.0</td>\n",
       "      <td>53500.0</td>\n",
       "      <td>13535702</td>\n",
       "      <td>53500.000000</td>\n",
       "    </tr>\n",
       "    <tr>\n",
       "      <th>2025-01-22</th>\n",
       "      <td>53400.0</td>\n",
       "      <td>54400.0</td>\n",
       "      <td>53100.0</td>\n",
       "      <td>54300.0</td>\n",
       "      <td>18341991</td>\n",
       "      <td>54300.000000</td>\n",
       "    </tr>\n",
       "    <tr>\n",
       "      <th>2025-01-23</th>\n",
       "      <td>53700.0</td>\n",
       "      <td>54100.0</td>\n",
       "      <td>53500.0</td>\n",
       "      <td>53700.0</td>\n",
       "      <td>15588067</td>\n",
       "      <td>53700.000000</td>\n",
       "    </tr>\n",
       "    <tr>\n",
       "      <th>2025-01-24</th>\n",
       "      <td>53600.0</td>\n",
       "      <td>53800.0</td>\n",
       "      <td>53200.0</td>\n",
       "      <td>53700.0</td>\n",
       "      <td>11867631</td>\n",
       "      <td>53700.000000</td>\n",
       "    </tr>\n",
       "    <tr>\n",
       "      <th>2025-01-31</th>\n",
       "      <td>52200.0</td>\n",
       "      <td>53000.0</td>\n",
       "      <td>51700.0</td>\n",
       "      <td>52400.0</td>\n",
       "      <td>42186279</td>\n",
       "      <td>52400.000000</td>\n",
       "    </tr>\n",
       "  </tbody>\n",
       "</table>\n",
       "<p>6279 rows × 6 columns</p>\n",
       "</div>"
      ],
      "text/plain": [
       "               Open     High      Low    Close    Volume     Adj Close\n",
       "2000-01-04   6000.0   6110.0   5660.0   6110.0  74195000   4375.398926\n",
       "2000-01-05   5800.0   6060.0   5520.0   5580.0  74680000   3995.864990\n",
       "2000-01-06   5750.0   5780.0   5580.0   5620.0  54390000   4024.508301\n",
       "2000-01-07   5560.0   5670.0   5360.0   5540.0  40305000   3967.220947\n",
       "2000-01-10   5600.0   5770.0   5580.0   5770.0  46880000   4131.925293\n",
       "...             ...      ...      ...      ...       ...           ...\n",
       "2025-01-21  53700.0  54300.0  53300.0  53500.0  13535702  53500.000000\n",
       "2025-01-22  53400.0  54400.0  53100.0  54300.0  18341991  54300.000000\n",
       "2025-01-23  53700.0  54100.0  53500.0  53700.0  15588067  53700.000000\n",
       "2025-01-24  53600.0  53800.0  53200.0  53700.0  11867631  53700.000000\n",
       "2025-01-31  52200.0  53000.0  51700.0  52400.0  42186279  52400.000000\n",
       "\n",
       "[6279 rows x 6 columns]"
      ]
     },
     "metadata": {},
     "output_type": "display_data"
    }
   ],
   "source": [
    "# loaded the samsung data\n",
    "df = fdr.DataReader(f'YAHOO:005930.KS', '2000-01-01', '2025-02-01')\n",
    "display(df)"
   ]
  },
  {
   "cell_type": "code",
   "execution_count": 8,
   "metadata": {},
   "outputs": [
    {
     "name": "stderr",
     "output_type": "stream",
     "text": [
      "C:\\Users\\skygr\\AppData\\Local\\Temp\\ipykernel_41940\\1524830818.py:2: SettingWithCopyWarning: \n",
      "A value is trying to be set on a copy of a slice from a DataFrame.\n",
      "Try using .loc[row_indexer,col_indexer] = value instead\n",
      "\n",
      "See the caveats in the documentation: https://pandas.pydata.org/pandas-docs/stable/user_guide/indexing.html#returning-a-view-versus-a-copy\n",
      "  df['MA3'] = df['Close'].rolling(window=3).mean()    # 3일 선\n"
     ]
    },
    {
     "data": {
      "text/html": [
       "<div>\n",
       "<style scoped>\n",
       "    .dataframe tbody tr th:only-of-type {\n",
       "        vertical-align: middle;\n",
       "    }\n",
       "\n",
       "    .dataframe tbody tr th {\n",
       "        vertical-align: top;\n",
       "    }\n",
       "\n",
       "    .dataframe thead th {\n",
       "        text-align: right;\n",
       "    }\n",
       "</style>\n",
       "<table border=\"1\" class=\"dataframe\">\n",
       "  <thead>\n",
       "    <tr style=\"text-align: right;\">\n",
       "      <th></th>\n",
       "      <th>Open</th>\n",
       "      <th>High</th>\n",
       "      <th>Low</th>\n",
       "      <th>Close</th>\n",
       "      <th>Adj Close</th>\n",
       "      <th>Volume</th>\n",
       "      <th>MA3</th>\n",
       "      <th>MA5</th>\n",
       "    </tr>\n",
       "  </thead>\n",
       "  <tbody>\n",
       "    <tr>\n",
       "      <th>2000-01-04</th>\n",
       "      <td>6000.0</td>\n",
       "      <td>6110.0</td>\n",
       "      <td>5660.0</td>\n",
       "      <td>6110.0</td>\n",
       "      <td>4375.398926</td>\n",
       "      <td>74195000</td>\n",
       "      <td>NaN</td>\n",
       "      <td>NaN</td>\n",
       "    </tr>\n",
       "    <tr>\n",
       "      <th>2000-01-05</th>\n",
       "      <td>5800.0</td>\n",
       "      <td>6060.0</td>\n",
       "      <td>5520.0</td>\n",
       "      <td>5580.0</td>\n",
       "      <td>3995.864990</td>\n",
       "      <td>74680000</td>\n",
       "      <td>NaN</td>\n",
       "      <td>NaN</td>\n",
       "    </tr>\n",
       "    <tr>\n",
       "      <th>2000-01-06</th>\n",
       "      <td>5750.0</td>\n",
       "      <td>5780.0</td>\n",
       "      <td>5580.0</td>\n",
       "      <td>5620.0</td>\n",
       "      <td>4024.508301</td>\n",
       "      <td>54390000</td>\n",
       "      <td>5770.000000</td>\n",
       "      <td>NaN</td>\n",
       "    </tr>\n",
       "    <tr>\n",
       "      <th>2000-01-07</th>\n",
       "      <td>5560.0</td>\n",
       "      <td>5670.0</td>\n",
       "      <td>5360.0</td>\n",
       "      <td>5540.0</td>\n",
       "      <td>3967.220947</td>\n",
       "      <td>40305000</td>\n",
       "      <td>5580.000000</td>\n",
       "      <td>NaN</td>\n",
       "    </tr>\n",
       "    <tr>\n",
       "      <th>2000-01-10</th>\n",
       "      <td>5600.0</td>\n",
       "      <td>5770.0</td>\n",
       "      <td>5580.0</td>\n",
       "      <td>5770.0</td>\n",
       "      <td>4131.925293</td>\n",
       "      <td>46880000</td>\n",
       "      <td>5643.333333</td>\n",
       "      <td>5724.0</td>\n",
       "    </tr>\n",
       "    <tr>\n",
       "      <th>...</th>\n",
       "      <td>...</td>\n",
       "      <td>...</td>\n",
       "      <td>...</td>\n",
       "      <td>...</td>\n",
       "      <td>...</td>\n",
       "      <td>...</td>\n",
       "      <td>...</td>\n",
       "      <td>...</td>\n",
       "    </tr>\n",
       "    <tr>\n",
       "      <th>2025-01-21</th>\n",
       "      <td>53700.0</td>\n",
       "      <td>54300.0</td>\n",
       "      <td>53300.0</td>\n",
       "      <td>53500.0</td>\n",
       "      <td>53500.000000</td>\n",
       "      <td>13535702</td>\n",
       "      <td>53533.333333</td>\n",
       "      <td>53720.0</td>\n",
       "    </tr>\n",
       "    <tr>\n",
       "      <th>2025-01-22</th>\n",
       "      <td>53400.0</td>\n",
       "      <td>54400.0</td>\n",
       "      <td>53100.0</td>\n",
       "      <td>54300.0</td>\n",
       "      <td>54300.000000</td>\n",
       "      <td>18341991</td>\n",
       "      <td>53733.333333</td>\n",
       "      <td>53840.0</td>\n",
       "    </tr>\n",
       "    <tr>\n",
       "      <th>2025-01-23</th>\n",
       "      <td>53700.0</td>\n",
       "      <td>54100.0</td>\n",
       "      <td>53500.0</td>\n",
       "      <td>53700.0</td>\n",
       "      <td>53700.000000</td>\n",
       "      <td>15588067</td>\n",
       "      <td>53833.333333</td>\n",
       "      <td>53720.0</td>\n",
       "    </tr>\n",
       "    <tr>\n",
       "      <th>2025-01-24</th>\n",
       "      <td>53600.0</td>\n",
       "      <td>53800.0</td>\n",
       "      <td>53200.0</td>\n",
       "      <td>53700.0</td>\n",
       "      <td>53700.000000</td>\n",
       "      <td>11867631</td>\n",
       "      <td>53900.000000</td>\n",
       "      <td>53720.0</td>\n",
       "    </tr>\n",
       "    <tr>\n",
       "      <th>2025-01-31</th>\n",
       "      <td>52200.0</td>\n",
       "      <td>53000.0</td>\n",
       "      <td>51700.0</td>\n",
       "      <td>52400.0</td>\n",
       "      <td>52400.000000</td>\n",
       "      <td>42186279</td>\n",
       "      <td>53266.666667</td>\n",
       "      <td>53520.0</td>\n",
       "    </tr>\n",
       "  </tbody>\n",
       "</table>\n",
       "<p>6279 rows × 8 columns</p>\n",
       "</div>"
      ],
      "text/plain": [
       "               Open     High      Low  ...    Volume           MA3      MA5\n",
       "2000-01-04   6000.0   6110.0   5660.0  ...  74195000           NaN      NaN\n",
       "2000-01-05   5800.0   6060.0   5520.0  ...  74680000           NaN      NaN\n",
       "2000-01-06   5750.0   5780.0   5580.0  ...  54390000   5770.000000      NaN\n",
       "2000-01-07   5560.0   5670.0   5360.0  ...  40305000   5580.000000      NaN\n",
       "2000-01-10   5600.0   5770.0   5580.0  ...  46880000   5643.333333   5724.0\n",
       "...             ...      ...      ...  ...       ...           ...      ...\n",
       "2025-01-21  53700.0  54300.0  53300.0  ...  13535702  53533.333333  53720.0\n",
       "2025-01-22  53400.0  54400.0  53100.0  ...  18341991  53733.333333  53840.0\n",
       "2025-01-23  53700.0  54100.0  53500.0  ...  15588067  53833.333333  53720.0\n",
       "2025-01-24  53600.0  53800.0  53200.0  ...  11867631  53900.000000  53720.0\n",
       "2025-01-31  52200.0  53000.0  51700.0  ...  42186279  53266.666667  53520.0\n",
       "\n",
       "[6279 rows x 8 columns]"
      ]
     },
     "execution_count": 8,
     "metadata": {},
     "output_type": "execute_result"
    }
   ],
   "source": [
    "df = df[['Open', 'High', 'Low', 'Close', 'Adj Close', 'Volume']]\n",
    "df['MA3'] = df['Close'].rolling(window=3).mean()    # 3일 선\n",
    "df['MA5'] = df['Close'].rolling(window=5).mean()    # 5일 선\n",
    "\n",
    "df.to_csv('./datafile/삼성전자_MA3_MA5.csv')\n",
    "df"
   ]
  },
  {
   "cell_type": "markdown",
   "metadata": {},
   "source": [
    "### <span style=\"font-size:22px\">데이터 전처리</span>"
   ]
  },
  {
   "cell_type": "markdown",
   "metadata": {},
   "source": [
    "#### <span style=\"font-size:20px\">Outlier 확인</span>"
   ]
  },
  {
   "cell_type": "markdown",
   "metadata": {},
   "source": [
    "<dl>\n",
    "<dt style=\"font-size:18px\">▶ 통계적으로 비정상적인, 즉 크거나 작은 데이터 값, outlier(특이값)은 딥러닝 학습을 \n",
    "<br>　 하기 위해서 적절한 값으로 바꾸거나 삭제하는 등의 처리가 반드시 필요함\n",
    "</dt><br>\n",
    "<dd style=\"font-size:16px\">\n",
    "- 판다스 describe()를 통해서 삼전 주가 데이터 통계를 확인하면, 거래량을 나타내는 \n",
    "<br>　Volume 최소값이 0임을 알 수 있음 => 주식과 같은 금융 데이터에서 Volume(거래량) \n",
    "<br>　값이 없는, 즉 0으로 나타나는 곳은 missing value(결측값)인 NaN으로 취급하는 것이 일반적임\n",
    "</dd>\n",
    "</dl>"
   ]
  },
  {
   "cell_type": "code",
   "execution_count": 16,
   "metadata": {},
   "outputs": [
    {
     "data": {
      "text/html": [
       "<div>\n",
       "<style scoped>\n",
       "    .dataframe tbody tr th:only-of-type {\n",
       "        vertical-align: middle;\n",
       "    }\n",
       "\n",
       "    .dataframe tbody tr th {\n",
       "        vertical-align: top;\n",
       "    }\n",
       "\n",
       "    .dataframe thead th {\n",
       "        text-align: right;\n",
       "    }\n",
       "</style>\n",
       "<table border=\"1\" class=\"dataframe\">\n",
       "  <thead>\n",
       "    <tr style=\"text-align: right;\">\n",
       "      <th></th>\n",
       "      <th>Open</th>\n",
       "      <th>High</th>\n",
       "      <th>Low</th>\n",
       "      <th>Close</th>\n",
       "      <th>Adj Close</th>\n",
       "      <th>Volume</th>\n",
       "      <th>MA3</th>\n",
       "      <th>MA5</th>\n",
       "    </tr>\n",
       "  </thead>\n",
       "  <tbody>\n",
       "    <tr>\n",
       "      <th>count</th>\n",
       "      <td>6279.000000</td>\n",
       "      <td>6279.000000</td>\n",
       "      <td>6279.000000</td>\n",
       "      <td>6279.000000</td>\n",
       "      <td>6279.000000</td>\n",
       "      <td>6.279000e+03</td>\n",
       "      <td>6277.000000</td>\n",
       "      <td>6275.000000</td>\n",
       "    </tr>\n",
       "    <tr>\n",
       "      <th>mean</th>\n",
       "      <td>29283.811116</td>\n",
       "      <td>29570.530339</td>\n",
       "      <td>28987.069597</td>\n",
       "      <td>29271.931836</td>\n",
       "      <td>25095.015640</td>\n",
       "      <td>2.121070e+07</td>\n",
       "      <td>29271.896341</td>\n",
       "      <td>29271.774980</td>\n",
       "    </tr>\n",
       "    <tr>\n",
       "      <th>std</th>\n",
       "      <td>23131.343268</td>\n",
       "      <td>23318.071765</td>\n",
       "      <td>22926.570965</td>\n",
       "      <td>23106.698367</td>\n",
       "      <td>22403.570527</td>\n",
       "      <td>1.495452e+07</td>\n",
       "      <td>23102.926397</td>\n",
       "      <td>23099.749909</td>\n",
       "    </tr>\n",
       "    <tr>\n",
       "      <th>min</th>\n",
       "      <td>2540.000000</td>\n",
       "      <td>2760.000000</td>\n",
       "      <td>2420.000000</td>\n",
       "      <td>2730.000000</td>\n",
       "      <td>1954.966187</td>\n",
       "      <td>0.000000e+00</td>\n",
       "      <td>2790.000000</td>\n",
       "      <td>2810.000000</td>\n",
       "    </tr>\n",
       "    <tr>\n",
       "      <th>25%</th>\n",
       "      <td>10900.000000</td>\n",
       "      <td>11010.000000</td>\n",
       "      <td>10720.000000</td>\n",
       "      <td>10870.000000</td>\n",
       "      <td>7862.830078</td>\n",
       "      <td>1.175648e+07</td>\n",
       "      <td>10880.000000</td>\n",
       "      <td>10884.000000</td>\n",
       "    </tr>\n",
       "    <tr>\n",
       "      <th>50%</th>\n",
       "      <td>22580.000000</td>\n",
       "      <td>22820.000000</td>\n",
       "      <td>22360.000000</td>\n",
       "      <td>22620.000000</td>\n",
       "      <td>17657.097656</td>\n",
       "      <td>1.725595e+07</td>\n",
       "      <td>22626.666667</td>\n",
       "      <td>22672.000000</td>\n",
       "    </tr>\n",
       "    <tr>\n",
       "      <th>75%</th>\n",
       "      <td>46810.000000</td>\n",
       "      <td>47200.000000</td>\n",
       "      <td>46300.000000</td>\n",
       "      <td>46850.000000</td>\n",
       "      <td>39343.308594</td>\n",
       "      <td>2.627057e+07</td>\n",
       "      <td>46766.666667</td>\n",
       "      <td>46689.000000</td>\n",
       "    </tr>\n",
       "    <tr>\n",
       "      <th>max</th>\n",
       "      <td>90300.000000</td>\n",
       "      <td>96800.000000</td>\n",
       "      <td>89500.000000</td>\n",
       "      <td>91000.000000</td>\n",
       "      <td>86718.812500</td>\n",
       "      <td>1.642150e+08</td>\n",
       "      <td>90433.333333</td>\n",
       "      <td>89960.000000</td>\n",
       "    </tr>\n",
       "  </tbody>\n",
       "</table>\n",
       "</div>"
      ],
      "text/plain": [
       "               Open          High  ...           MA3           MA5\n",
       "count   6279.000000   6279.000000  ...   6277.000000   6275.000000\n",
       "mean   29283.811116  29570.530339  ...  29271.896341  29271.774980\n",
       "std    23131.343268  23318.071765  ...  23102.926397  23099.749909\n",
       "min     2540.000000   2760.000000  ...   2790.000000   2810.000000\n",
       "25%    10900.000000  11010.000000  ...  10880.000000  10884.000000\n",
       "50%    22580.000000  22820.000000  ...  22626.666667  22672.000000\n",
       "75%    46810.000000  47200.000000  ...  46766.666667  46689.000000\n",
       "max    90300.000000  96800.000000  ...  90433.333333  89960.000000\n",
       "\n",
       "[8 rows x 8 columns]"
      ]
     },
     "execution_count": 16,
     "metadata": {},
     "output_type": "execute_result"
    }
   ],
   "source": [
    "raw_df.describe()"
   ]
  },
  {
   "cell_type": "markdown",
   "metadata": {},
   "source": [
    "#### <span style=\"font-size:20px\">Missing Value 확인</span>"
   ]
  },
  {
   "cell_type": "markdown",
   "metadata": {},
   "source": [
    "<dl>\n",
    "<dt style=\"font-size:18px\">▶ 결측치(missing value)는 특정 데이터가 누락된 것을 말하며, outlier와 마찬가지로 \n",
    "<br>　 이러한 missing value를 제거하거나 적절한 값으로 대체하는 등의 처리가 필요함\n",
    "</dt><br>\n",
    "<dd style=\"font-size:16px\">\n",
    "- 판다스 isnull().sum() 통해서 삼전 주가 데이터의 missing value를 확인해보면, 6개의 \n",
    "<br>　칼럼(Open, High, Low, Close, Adj Close, Volume)에서 각각 6개 missing value가 있음을  \n",
    "<br>　알 수 있음 => 주식과 같은 금융 데이터에서 NaN으로 표시되는 missing value는 평균값이나 \n",
    "<br>　중간값 등으로 대체하지 않고 해당되는 행(row) 전체를 삭제하는 것이 일반적임\n",
    "</dd>\n",
    "</dl>"
   ]
  },
  {
   "cell_type": "code",
   "execution_count": 19,
   "metadata": {},
   "outputs": [
    {
     "data": {
      "text/plain": [
       "Unnamed: 0    0\n",
       "Open          0\n",
       "High          0\n",
       "Low           0\n",
       "Close         0\n",
       "Adj Close     0\n",
       "Volume        0\n",
       "MA3           2\n",
       "MA5           4\n",
       "dtype: int64"
      ]
     },
     "execution_count": 19,
     "metadata": {},
     "output_type": "execute_result"
    }
   ],
   "source": [
    "raw_df.isnull().sum()"
   ]
  },
  {
   "cell_type": "code",
   "execution_count": 20,
   "metadata": {},
   "outputs": [
    {
     "data": {
      "text/html": [
       "<div>\n",
       "<style scoped>\n",
       "    .dataframe tbody tr th:only-of-type {\n",
       "        vertical-align: middle;\n",
       "    }\n",
       "\n",
       "    .dataframe tbody tr th {\n",
       "        vertical-align: top;\n",
       "    }\n",
       "\n",
       "    .dataframe thead th {\n",
       "        text-align: right;\n",
       "    }\n",
       "</style>\n",
       "<table border=\"1\" class=\"dataframe\">\n",
       "  <thead>\n",
       "    <tr style=\"text-align: right;\">\n",
       "      <th></th>\n",
       "      <th>Unnamed: 0</th>\n",
       "      <th>Open</th>\n",
       "      <th>High</th>\n",
       "      <th>Low</th>\n",
       "      <th>Close</th>\n",
       "      <th>Adj Close</th>\n",
       "      <th>Volume</th>\n",
       "      <th>MA3</th>\n",
       "      <th>MA5</th>\n",
       "    </tr>\n",
       "  </thead>\n",
       "  <tbody>\n",
       "  </tbody>\n",
       "</table>\n",
       "</div>"
      ],
      "text/plain": [
       "Empty DataFrame\n",
       "Columns: [Unnamed: 0, Open, High, Low, Close, Adj Close, Volume, MA3, MA5]\n",
       "Index: []"
      ]
     },
     "execution_count": 20,
     "metadata": {},
     "output_type": "execute_result"
    }
   ],
   "source": [
    "raw_df.loc[raw_df['Open'].isna()]"
   ]
  },
  {
   "cell_type": "markdown",
   "metadata": {},
   "source": [
    "#### <span style=\"font-size:20px\">Outlier 및 Missing Value 처리</span>"
   ]
  },
  {
   "cell_type": "code",
   "execution_count": 21,
   "metadata": {},
   "outputs": [
    {
     "name": "stdout",
     "output_type": "stream",
     "text": [
      "Unnamed: 0: 0\n",
      "Open: 0\n",
      "High: 0\n",
      "Low: 0\n",
      "Close: 0\n",
      "Adj Close: 0\n",
      "Volume: 0\n",
      "MA3: 0\n",
      "MA5: 0\n"
     ]
    }
   ],
   "source": [
    "# Volume 값 0을 NaN으로 모두 대체(replace)\n",
    "raw_df['Volume'] = raw_df['Volume'].replace(0, np.nan)\n",
    "\n",
    "# 각 column에 0 개수 확인\n",
    "for col in raw_df.columns:\n",
    "    missing_rows = raw_df.loc[raw_df[col]==0].shape[0]\n",
    "    print(col + ': ' + str(missing_rows))"
   ]
  },
  {
   "cell_type": "code",
   "execution_count": 22,
   "metadata": {},
   "outputs": [
    {
     "data": {
      "text/plain": [
       "Unnamed: 0      0\n",
       "Open            0\n",
       "High            0\n",
       "Low             0\n",
       "Close           0\n",
       "Adj Close       0\n",
       "Volume        127\n",
       "MA3             2\n",
       "MA5             4\n",
       "dtype: int64"
      ]
     },
     "execution_count": 22,
     "metadata": {},
     "output_type": "execute_result"
    }
   ],
   "source": [
    "# 모든 Missing Value 삭제\n",
    "raw_df.isnull().sum()"
   ]
  },
  {
   "cell_type": "code",
   "execution_count": 23,
   "metadata": {},
   "outputs": [
    {
     "data": {
      "text/plain": [
       "Unnamed: 0    0\n",
       "Open          0\n",
       "High          0\n",
       "Low           0\n",
       "Close         0\n",
       "Adj Close     0\n",
       "Volume        0\n",
       "MA3           0\n",
       "MA5           0\n",
       "dtype: int64"
      ]
     },
     "execution_count": 23,
     "metadata": {},
     "output_type": "execute_result"
    }
   ],
   "source": [
    "raw_df = raw_df.dropna()\n",
    "raw_df.isnull().sum()"
   ]
  },
  {
   "cell_type": "markdown",
   "metadata": {},
   "source": [
    "#### <span style=\"font-size:25px\">정규화(Normalization)</span>"
   ]
  },
  {
   "cell_type": "code",
   "execution_count": 25,
   "metadata": {},
   "outputs": [
    {
     "name": "stdout",
     "output_type": "stream",
     "text": [
      "<class 'numpy.ndarray'> \n",
      "\n",
      "          Open      High       Low  ...       MA3       MA5    Volume\n",
      "0     0.034868  0.032008  0.036288  ...  0.032556  0.033215  0.285359\n",
      "1     0.037375  0.035517  0.038470  ...  0.033127  0.032434  0.363715\n",
      "2     0.034982  0.031689  0.036518  ...  0.033811  0.032756  0.177799\n",
      "3     0.034868  0.031689  0.036059  ...  0.033583  0.032962  0.250704\n",
      "4     0.036235  0.033177  0.037437  ...  0.033811  0.033628  0.300555\n",
      "...        ...       ...       ...  ...       ...       ...       ...\n",
      "6143  0.582954  0.548065  0.584290  ...  0.578975  0.584070  0.082272\n",
      "6144  0.579535  0.549128  0.581994  ...  0.581257  0.585447  0.111545\n",
      "6145  0.582954  0.545938  0.586587  ...  0.582398  0.584070  0.094772\n",
      "6146  0.581814  0.542748  0.583142  ...  0.583159  0.584070  0.072113\n",
      "6147  0.565861  0.534241  0.565916  ...  0.575933  0.581774  0.256771\n",
      "\n",
      "[6148 rows x 8 columns]\n"
     ]
    }
   ],
   "source": [
    "# 딥러닝 학습이 잘 되기 위해서는 정규화 작업이 필요함. 즉 날짜를 나타내는 Date\n",
    "# 항목을 제외한 숫자로 표현되는 모든 column에 대해서 0~1 값으로 정규화 수행함\n",
    "from sklearn.preprocessing import MinMaxScaler\n",
    "scaler = MinMaxScaler()\n",
    "scale_cols = ['Open', 'High', 'Low', 'Close', 'Adj Close', \n",
    "              'MA3', 'MA5', 'Volume']                   # 정규화 대상 column 정의\n",
    "scaled_df = scaler.fit_transform(raw_df[scale_cols])    # 정규화 수행\n",
    "print(type(scaled_df),'\\n')\n",
    "scaled_df = pd.DataFrame(scaled_df, columns=scale_cols)\n",
    "print(scaled_df)"
   ]
  },
  {
   "cell_type": "markdown",
   "metadata": {},
   "source": [
    "#### <span style=\"font-size:25px\">feature column / label column 정의</span>"
   ]
  },
  {
   "cell_type": "code",
   "execution_count": 26,
   "metadata": {},
   "outputs": [
    {
     "name": "stdout",
     "output_type": "stream",
     "text": [
      "           MA3       MA5  Adj Close\n",
      "0     0.032556  0.033215   0.025683\n",
      "1     0.033127  0.032434   0.025683\n",
      "2     0.033811  0.032756   0.025260\n",
      "3     0.033583  0.032962   0.025176\n",
      "4     0.033811  0.033628   0.026190\n",
      "...        ...       ...        ...\n",
      "6143  0.578975  0.584070   0.608102\n",
      "6144  0.581257  0.585447   0.617540\n",
      "6145  0.582398  0.584070   0.610461\n",
      "6146  0.583159  0.584070   0.610461\n",
      "6147  0.575933  0.581774   0.595124\n",
      "\n",
      "[6148 rows x 3 columns]\n",
      "      Adj Close\n",
      "0      0.025683\n",
      "1      0.025683\n",
      "2      0.025260\n",
      "3      0.025176\n",
      "4      0.026190\n",
      "...         ...\n",
      "6143   0.608102\n",
      "6144   0.617540\n",
      "6145   0.610461\n",
      "6146   0.610461\n",
      "6147   0.595124\n",
      "\n",
      "[6148 rows x 1 columns]\n"
     ]
    }
   ],
   "source": [
    "# 딥러닝 학습을 위한 입력 데이터 feature column, 정답 데이터 label column 정의 후 \n",
    "# numpy로 변환하여 데이터 전처리 과정을 완료함\n",
    "\n",
    "feature_cols = ['MA3', 'MA5', 'Adj Close']\n",
    "label_cols   = ['Adj Close']\n",
    "\n",
    "feature_df = pd.DataFrame(scaled_df, columns=feature_cols)\n",
    "label_df   = pd.DataFrame(scaled_df, columns=label_cols)\n",
    "\n",
    "print(feature_df)\n",
    "print(label_df)\n",
    "\n",
    "feature_np = feature_df.to_numpy()\n",
    "label_np   = label_df.to_numpy()"
   ]
  },
  {
   "cell_type": "markdown",
   "metadata": {},
   "source": [
    "### <span style=\"font-size:25px\">데이터 생성 - 입력 데이터 feature/정답 데이터 label</span>"
   ]
  },
  {
   "cell_type": "code",
   "execution_count": 27,
   "metadata": {},
   "outputs": [],
   "source": [
    "def make_sequene_dataset(feature, label, window_size):\n",
    "    feature_list, label_list = [], []\n",
    "    for i in range(len(feature) - window_size):\n",
    "        feature_list.append(feature[i:i+window_size])\n",
    "        label_list.append(label[i+window_size])\n",
    "    return np.array(feature_list), np.array(label_list)"
   ]
  },
  {
   "cell_type": "code",
   "execution_count": 28,
   "metadata": {},
   "outputs": [
    {
     "name": "stdout",
     "output_type": "stream",
     "text": [
      "(6108, 40, 3) (6108, 1)\n"
     ]
    }
   ],
   "source": [
    "window_size = 40\n",
    "\n",
    "X, Y = make_sequene_dataset(feature_np, label_np, window_size)\n",
    "\n",
    "print(X.shape, Y.shape)"
   ]
  },
  {
   "cell_type": "markdown",
   "metadata": {},
   "source": [
    "### <span style=\"font-size:25px\">데이터 분리 및 모델 구축</span>"
   ]
  },
  {
   "cell_type": "code",
   "execution_count": 32,
   "metadata": {},
   "outputs": [
    {
     "name": "stdout",
     "output_type": "stream",
     "text": [
      "(5908, 40, 3) (5908, 1) (200, 40, 3) (200, 1)\n",
      "(40, 3)\n"
     ]
    }
   ],
   "source": [
    "split = -200\n",
    "\n",
    "x_train = X[0:split]\n",
    "t_train = Y[0:split]\n",
    "\n",
    "x_test = X[split:]\n",
    "t_test = Y[split:]\n",
    "\n",
    "print(x_train.shape, t_train.shape, \n",
    "      x_test.shape, t_test.shape)"
   ]
  },
  {
   "cell_type": "code",
   "execution_count": 33,
   "metadata": {},
   "outputs": [
    {
     "name": "stdout",
     "output_type": "stream",
     "text": [
      "Model: \"sequential\"\n",
      "_________________________________________________________________\n",
      " Layer (type)                Output Shape              Param #   \n",
      "=================================================================\n",
      " lstm (LSTM)                 (None, 128)               67584     \n",
      "                                                                 \n",
      " dense (Dense)               (None, 1)                 129       \n",
      "                                                                 \n",
      "=================================================================\n",
      "Total params: 67,713\n",
      "Trainable params: 67,713\n",
      "Non-trainable params: 0\n",
      "_________________________________________________________________\n"
     ]
    }
   ],
   "source": [
    "model = Sequential()\n",
    "\n",
    "model.add(LSTM(128, \n",
    "               activation='tanh', \n",
    "               input_shape=x_train[0].shape))\n",
    "\n",
    "model.add(Dense(1, activation='linear'))\n",
    "\n",
    "model.summary()"
   ]
  },
  {
   "cell_type": "code",
   "execution_count": 35,
   "metadata": {},
   "outputs": [
    {
     "name": "stdout",
     "output_type": "stream",
     "text": [
      "Epoch 1/100\n",
      "370/370 [==============================] - 15s 7ms/step - loss: 0.0015 - mae: 0.0155 - val_loss: 0.0011 - val_mae: 0.0267\n",
      "Epoch 2/100\n",
      "370/370 [==============================] - 2s 6ms/step - loss: 1.7781e-04 - mae: 0.0082 - val_loss: 9.4692e-04 - val_mae: 0.0240\n",
      "Epoch 3/100\n",
      "370/370 [==============================] - 2s 6ms/step - loss: 1.7327e-04 - mae: 0.0083 - val_loss: 9.3128e-04 - val_mae: 0.0233\n",
      "Epoch 4/100\n",
      "370/370 [==============================] - 2s 6ms/step - loss: 1.5230e-04 - mae: 0.0078 - val_loss: 8.2811e-04 - val_mae: 0.0228\n",
      "Epoch 5/100\n",
      "370/370 [==============================] - 2s 5ms/step - loss: 1.2401e-04 - mae: 0.0070 - val_loss: 7.1380e-04 - val_mae: 0.0205\n",
      "Epoch 6/100\n",
      "370/370 [==============================] - 2s 6ms/step - loss: 1.2111e-04 - mae: 0.0071 - val_loss: 7.7780e-04 - val_mae: 0.0218\n",
      "Epoch 7/100\n",
      "370/370 [==============================] - 2s 6ms/step - loss: 1.0754e-04 - mae: 0.0067 - val_loss: 6.0552e-04 - val_mae: 0.0188\n",
      "Epoch 8/100\n",
      "370/370 [==============================] - 2s 5ms/step - loss: 9.7656e-05 - mae: 0.0064 - val_loss: 5.8858e-04 - val_mae: 0.0186\n",
      "Epoch 9/100\n",
      "370/370 [==============================] - 2s 5ms/step - loss: 8.2090e-05 - mae: 0.0058 - val_loss: 5.6664e-04 - val_mae: 0.0183\n",
      "Epoch 10/100\n",
      "370/370 [==============================] - 2s 6ms/step - loss: 9.1479e-05 - mae: 0.0062 - val_loss: 6.3337e-04 - val_mae: 0.0197\n",
      "Epoch 11/100\n",
      "370/370 [==============================] - 2s 5ms/step - loss: 7.5407e-05 - mae: 0.0056 - val_loss: 5.2819e-04 - val_mae: 0.0175\n",
      "Epoch 12/100\n",
      "370/370 [==============================] - 2s 5ms/step - loss: 8.6154e-05 - mae: 0.0061 - val_loss: 4.0542e-04 - val_mae: 0.0147\n",
      "Epoch 13/100\n",
      "370/370 [==============================] - 2s 5ms/step - loss: 6.8004e-05 - mae: 0.0054 - val_loss: 0.0015 - val_mae: 0.0332\n",
      "Epoch 14/100\n",
      "370/370 [==============================] - 2s 6ms/step - loss: 7.8578e-05 - mae: 0.0056 - val_loss: 3.4683e-04 - val_mae: 0.0135\n",
      "Epoch 15/100\n",
      "370/370 [==============================] - 2s 5ms/step - loss: 6.0088e-05 - mae: 0.0050 - val_loss: 3.3559e-04 - val_mae: 0.0133\n",
      "Epoch 16/100\n",
      "370/370 [==============================] - 2s 5ms/step - loss: 6.7377e-05 - mae: 0.0053 - val_loss: 5.2150e-04 - val_mae: 0.0180\n",
      "Epoch 17/100\n",
      "370/370 [==============================] - 2s 5ms/step - loss: 6.1019e-05 - mae: 0.0050 - val_loss: 3.1337e-04 - val_mae: 0.0130\n",
      "Epoch 18/100\n",
      "370/370 [==============================] - 2s 5ms/step - loss: 5.7784e-05 - mae: 0.0050 - val_loss: 3.1011e-04 - val_mae: 0.0129\n",
      "Epoch 19/100\n",
      "370/370 [==============================] - 2s 5ms/step - loss: 4.7284e-05 - mae: 0.0044 - val_loss: 2.9985e-04 - val_mae: 0.0127\n",
      "Epoch 20/100\n",
      "370/370 [==============================] - 2s 5ms/step - loss: 5.4300e-05 - mae: 0.0048 - val_loss: 3.5949e-04 - val_mae: 0.0145\n",
      "Epoch 21/100\n",
      "370/370 [==============================] - 2s 5ms/step - loss: 6.0792e-05 - mae: 0.0051 - val_loss: 3.5631e-04 - val_mae: 0.0144\n",
      "Epoch 22/100\n",
      "370/370 [==============================] - 2s 5ms/step - loss: 4.8488e-05 - mae: 0.0045 - val_loss: 3.0971e-04 - val_mae: 0.0132\n",
      "Epoch 23/100\n",
      "370/370 [==============================] - 2s 5ms/step - loss: 4.7688e-05 - mae: 0.0045 - val_loss: 3.1367e-04 - val_mae: 0.0132\n",
      "Epoch 24/100\n",
      "370/370 [==============================] - 2s 6ms/step - loss: 5.0133e-05 - mae: 0.0046 - val_loss: 4.8266e-04 - val_mae: 0.0174\n"
     ]
    },
    {
     "data": {
      "text/plain": [
       "<keras.callbacks.History at 0x1e5567278e0>"
      ]
     },
     "execution_count": 35,
     "metadata": {},
     "output_type": "execute_result"
    }
   ],
   "source": [
    "from tensorflow.keras.callbacks import EarlyStopping\n",
    "\n",
    "model.compile(loss='mse', optimizer='Adam', metrics=['mae'])\n",
    "\n",
    "early_stop = EarlyStopping(monitor='val_loss', patience=5)      # 1e-5이하이면  학습 정지\n",
    "\n",
    "model.fit(x_train, t_train, epochs=100, validation_data=(x_test, t_test), batch_size=16, callbacks=[early_stop])"
   ]
  },
  {
   "cell_type": "code",
   "execution_count": 37,
   "metadata": {},
   "outputs": [
    {
     "name": "stdout",
     "output_type": "stream",
     "text": [
      "7/7 [==============================] - 0s 38ms/step\n"
     ]
    },
    {
     "data": {
      "image/png": "[encoded data removed]",
      "text/plain": [
       "<Figure size 1200x600 with 1 Axes>"
      ]
     },
     "metadata": {},
     "output_type": "display_data"
    }
   ],
   "source": [
    "pred = model.predict(x_test)\n",
    "\n",
    "plt.figure(figsize=(12, 6))\n",
    "plt.title('MA3_MA5_Adj Close, window_size=40')\n",
    "plt.xlabel('period')\n",
    "plt.ylabel('adj close')\n",
    "plt.plot(t_test, label='actual')\n",
    "plt.plot(pred, label='prediction')\n",
    "plt.legend(loc='best')\n",
    "plt.grid()\n",
    "plt.show()"
   ]
  }
 ],
 "metadata": {
  "kernelspec": {
   "display_name": "tfgpu",
   "language": "python",
   "name": "python3"
  },
  "language_info": {
   "codemirror_mode": {
    "name": "ipython",
    "version": 3
   },
   "file_extension": ".py",
   "mimetype": "text/x-python",
   "name": "python",
   "nbconvert_exporter": "python",
   "pygments_lexer": "ipython3",
   "version": "3.9.13"
  }
 },
 "nbformat": 4,
 "nbformat_minor": 2
}
