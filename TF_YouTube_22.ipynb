{
 "cells": [
  {
   "cell_type": "markdown",
   "metadata": {},
   "source": [
    "# GRU 구조와 동작원리"
   ]
  },
  {
   "cell_type": "markdown",
   "metadata": {},
   "source": [
    "## <span style=\"font-size:25px\">GRU 단점 - 개요</span>"
   ]
  },
  {
   "cell_type": "markdown",
   "metadata": {},
   "source": [
    "<dl>\n",
    "<dt style=\"font-size:20px\">▶ GRU는 LSTM 구조와 비슷하지만, 더 간단한 구조여서 계산상으로 이점이 있음\n",
    "</dt><br>\n",
    "<dd style=\"font-size:18\">\n",
    "✔ GRU는 LSTM에서 사용되는 cell state가 업슨 대신에 GRU 출력 H값이 그 역할을 대신함\n",
    "<br><br>\n",
    "✔ GRU 내부 구조 또한 Reset Gate, Updata Gate 두 가지만 존재하며, 이때 사용되는 활성화 \n",
    "<br>　 함수는 sigmoid 2번과 tanh 1번만 사용되기 때문에 LSTM에 비해 연산량을 줄일 수 있음\n",
    "<br><br>\n",
    "<img src=\"picture/TF_img_22_1.png\" alt=\"TF_img_22_1\" width=650>\n",
    "</dd>\n",
    "</dl>"
   ]
  },
  {
   "cell_type": "markdown",
   "metadata": {},
   "source": [
    "## <span style=\"font-size:25px\">LSTM vs GRU</span>"
   ]
  },
  {
   "cell_type": "markdown",
   "metadata": {},
   "source": [
    "<span style='font-size:20px'>\n",
    "LSTM 구조의 cell state 역할 => GRU 계층 출력 값 H 수행\n",
    "<br><br>\n",
    "LSTM 구조의 활성화 함수 5개 => GRU 구조의 활성화 함수 3개\n",
    "</span>"
   ]
  },
  {
   "cell_type": "markdown",
   "metadata": {},
   "source": [
    "## <span style=\"font-size:25px\">GRU 구조</span>"
   ]
  },
  {
   "cell_type": "markdown",
   "metadata": {},
   "source": [
    "### <span style=\"font-size:23px\">Reset Gate</span>"
   ]
  },
  {
   "cell_type": "markdown",
   "metadata": {},
   "source": [
    "<img src=\"picture/TF_img_22_2.png\" alt=\"TF_img_22_2\" width=650>\n",
    "<br><br>\n",
    "\n",
    "<span style=\"font-size:20px; color:#FF5454\">\n",
    "\n",
    "&nbsp;&nbsp; $\\text{R}_\\text{t} = \\text{sigmoid}(\\text{U}_\\text{r}\\text{X}_\\text{t} \\,+\\, \\text{W}_\\text{r}\\text{H}_\\text{t-1} \\,+\\, \\text{b}_\\text{r})$ \n",
    "\n",
    "</span>\n",
    "\n",
    "\n",
    "- <span style='font-size:18px'>Reset Gate는 과거의 정보를 얼마나 잊을 지(또는 기억할 지) 결정하는 게이트임.\n",
    "<br>즉 현 시점의 데이터 $\\text{x}_\\text{t}$ 와 과거의 은닉층 값 $\\text{H}_\\text{t-1}$ 에 각각의 가중치 $\\text{W}_\\text{f}$ , $\\text{U}_\\text{f}$ \n",
    "<br>곱하여 더한 후에 sigmoid 함수를 적용하여, 과거의 정보를 얼마나 리셋할 지\n",
    "<br>에 대해 $\\text{R}_\\text{t}$ (0~1) 값을 출력하는 과정을 나타냄\n",
    "</span>"
   ]
  },
  {
   "cell_type": "markdown",
   "metadata": {},
   "source": [
    "### <span style=\"font-size:23px\">Update Gate</span>"
   ]
  },
  {
   "cell_type": "markdown",
   "metadata": {},
   "source": [
    "<img src=\"picture/TF_img_22_3.png\" alt=\"TF_img_22_3\" width=650>\n",
    "<br><br>\n",
    "\n",
    "<span style=\"font-size:20px; color:#FF5454\">\n",
    "\n",
    "&nbsp;&nbsp; $\\text{U}_\\text{t} = \\text{sigmoid}(\\text{U}_\\text{u}\\text{X}_\\text{t} \\,+\\, \\text{W}_\\text{u}\\text{H}_\\text{t-1} \\,+\\, \\text{b}_\\text{u})$ \n",
    "\n",
    "</span>\n",
    "\n",
    "\n",
    "- <span style='font-size:18px'>Update Gate는 과거와 현재의 정보 가운데 어떤 정보를 더 많이 업데이트 할 지를 \n",
    "<br>결정하는 게이트임. 출력값 $\\text{U}_\\text{t}$ 는 현 시점에서의 가져가야 할 데이터의 양을 결정\n",
    "<br>하는 값이며, $1 \\,-\\, \\text{U}_\\text{t}$ 는 잊어버려야 할 데이터의 양이라고 생각하면 됨\n",
    "</span>\n",
    "\n",
    "- <span style='font-size:18px'>GRU Update Gate는 LSTM의 Input Gate와 Forget Gate를 합쳐놓은 개념임\n",
    "</span>"
   ]
  },
  {
   "cell_type": "markdown",
   "metadata": {},
   "source": [
    "### <span style=\"font-size:23px\">Candidate (데이터 산정)</span>"
   ]
  },
  {
   "cell_type": "markdown",
   "metadata": {},
   "source": [
    "<img src=\"picture/TF_img_22_4.png\" alt=\"TF_img_22_4\" width=650>\n",
    "<br><br>\n",
    "\n",
    "<span style=\"font-size:20px; color:#FF5454\">\n",
    "\n",
    "&nbsp;&nbsp; $\\text{\\~{H}}_\\text{t} = \\text{tanh}(\\text{U}_\\text{c}\\text{X}_\\text{t} \\,+\\, \\text{W}_\\text{c}\\text{H}_\\text{t-1} \\,*\\, \\text{R}_\\text{t} \\,+\\, \\text{b}_\\text{c})$ \n",
    "\n",
    "</span>\n",
    "\n",
    "\n",
    "- <span style='font-size:18px'>GRU에서 Candidate 단계는 다음 시점으로 전달하는 데이터 \n",
    "$\\text{H}_\\text{t}$ 를 만들기 위해, \n",
    "<br>현 시점의 데이터를 선정하는 단계\n",
    "</span>\n",
    "\n",
    "- <span style='font-size:18px'>데이터 선정단계에서의 핵심은 과거 GRU 층의 출력값 \n",
    "$\\text{H}_\\text{t-1}$ 과 리셋된 데이터 $\\text{R}_\\text{t}$\n",
    "<br>값을 이용해 pointwise(*) 곱 연산을 함으로서, 현 시점의 데이터 \n",
    "$\\text{X}_\\text{t}$ 와 일정 부분 \n",
    "<br>리셋된 과거 데이터를 가지고서 $\\text{\\~{H}}_\\text{t}$ 데이터를 생성하는 것임\n",
    "</span>"
   ]
  },
  {
   "cell_type": "markdown",
   "metadata": {},
   "source": [
    "### <span style=\"font-size:23px\">Output (출력값 계산)</span>"
   ]
  },
  {
   "cell_type": "markdown",
   "metadata": {},
   "source": [
    "<img src=\"picture/TF_img_22_5.png\" alt=\"TF_img_22_5\" width=650>\n",
    "<br><br>\n",
    "\n",
    "<span style=\"font-size:20px; color:#FF5454\">\n",
    "\n",
    "&nbsp;&nbsp; $\\text{H}_\\text{t} = (1 \\,-\\, \\text{U}_\\text{t}) \\,*\\, \\text{H}_\\text{t-1} \\,+\\, \\text{U}_\\text{t} \\,*\\, \\text{\\~{H}}_\\text{t}$ \n",
    "\n",
    "</span>\n",
    "\n",
    "\n",
    "- <span style='font-size:18px'>수식의 \n",
    "$\\text{U}_\\text{t}$ 부분은 현 시점의 데이터 중 얼마나 가져갈 것인지를 나타내며, $1 \\,-\\, \\text{U}_\\text{t}$\n",
    "<br>부분은 얼마나 잊을 지를 나타냄\n",
    "</span>\n",
    "\n",
    "- <span style='font-size:18px'>즉 \n",
    "$(1 \\,-\\, \\text{U}_\\text{t}) \\,*\\, \\text{H}_\\text{t}$ 수식은 이전 단계의 출력값 $\\text{H}_\\text{t-1}$ 에서 얼마나 잊을 지를 나타내\n",
    "<br>며, $\\text{U}_\\text{t} \\,*\\, \\text{\\~{H}}_\\text{t}$ 는 현 시점의 데이터 가운데 얼마만큼 다음 단계로 가져갈 것인지를 계\n",
    "<br>산하는 것이므로, 현재와 과거 데이터를 학습된 비율로 모두 합한 값이, GRU 층의 출\n",
    "<br>력값 $\\text{H}_\\text{t}$ 임\n",
    "</span>"
   ]
  },
  {
   "cell_type": "markdown",
   "metadata": {},
   "source": [
    "## <span style=\"font-size:25px\">GRU summary</span>"
   ]
  },
  {
   "cell_type": "markdown",
   "metadata": {},
   "source": [
    "<img src=\"picture/TF_img_22_6.png\" alt=\"TF_img_22_6\" width=650>\n",
    "<br>\n",
    "<table style=\"font=size:20px\">\n",
    "<tr>\n",
    "<td style=\"text-align:center\">계층</td>\n",
    "<td style=\"text-align:center\" colspan='2'>수식</td>\n",
    "<td style=\"text-align:center\">학습 파라미터</td>\n",
    "</tr>\n",
    "\n",
    "<tr>\n",
    "<td style=\"text-align:center\" rowspan='4'>GRU<br>계층</td>\n",
    "\n",
    "<td style=\"text-align:center\">Reset Gate</td>\n",
    "<td>\n",
    "\n",
    "$\\text{R}_\\text{t} = \\text{sigmoid}(\\text{U}_\\text{f}\\text{X}_\\text{t} \\,+\\, \\text{W}_\\text{r}\\text{H}_\\text{t-1} \\,+\\, \\text{b}_\\text{r})$\n",
    "</td>\n",
    "<td style=\"text-align:center\">\n",
    "\n",
    "$\\text{U}_\\text{r}$ , $\\text{W}_\\text{r}$ , $\\text{b}_\\text{r}$\n",
    "</td>\n",
    "</tr>\n",
    "\n",
    "<tr>\n",
    "<td style=\"text-align:center\">Update<br>Gate</td>\n",
    "<td>\n",
    "\n",
    "$\\text{U}_\\text{t} = \\text{sigmoid}(\\text{U}_\\text{u}\\text{X}_\\text{t} \\,+\\, \\text{W}_\\text{u}\\text{H}_\\text{t-1} \\,+\\, \\text{b}_\\text{u})$\n",
    "</td>\n",
    "<td style=\"text-align:center\">\n",
    "\n",
    "$\\text{U}_\\text{u}$ , $\\text{W}_\\text{u}$ , $\\text{b}_\\text{u}$\n",
    "</tr>\n",
    "\n",
    "<tr>\n",
    "<td style=\"text-align:center\">Candidate</td>\n",
    "<td>\n",
    "\n",
    "$\\text{\\~{H}}_\\text{t} = \\text{tanh}(\\text{U}_\\text{c}\\text{X}_\\text{t} \\,+\\, \\text{W}_\\text{c}\\text{H}_\\text{t-1} \\,*\\, \\text{R}_\\text{t} \\,+\\, \\text{b}_\\text{c})$\n",
    "</td>\n",
    "<td style=\"text-align:center\">\n",
    "\n",
    "$\\text{U}_\\text{c}$ , $\\text{W}_\\text{c}$ , $\\text{b}_\\text{c}$\n",
    "</td>\n",
    "</tr>\n",
    "\n",
    "<tr>\n",
    "<td style=\"text-align:center\">output gate</td>\n",
    "<td>\n",
    "\n",
    "$\\text{H}_\\text{t} = (1 \\,-\\, \\text{U}_\\text{t}) \\,*\\, \\text{H}_\\text{t-1} \\,+\\, \\text{U}_\\text{t}\\text{\\~{H}}_\\text{t}$\n",
    "</td>\n",
    "<td style=\"text-align:center\">\n",
    "---\n",
    "</td>\n",
    "</tr>\n",
    "\n",
    "<tr>\n",
    "<td style=\"text-align:center\" colspan='2'>출력 계층</td>\n",
    "\n",
    "<td>\n",
    "\n",
    "$\\text{y}_\\text{t} = \\text{activation\\_function}(\\text{V}_\\text{out}\\text{H}_\\text{t} \\,+\\, \\text{b}_\\text{out})$\n",
    "</td>\n",
    "<td style=\"text-align:center\">\n",
    "\n",
    "$\\text{V}_\\text{out}$ , $\\text{b}_\\text{out}$\n",
    "</td>\n",
    "</tr>\n",
    "</table>"
   ]
  }
 ],
 "metadata": {
  "kernelspec": {
   "display_name": "tfgpu",
   "language": "python",
   "name": "python3"
  },
  "language_info": {
   "name": "python",
   "version": "3.9.13"
  }
 },
 "nbformat": 4,
 "nbformat_minor": 2
}
