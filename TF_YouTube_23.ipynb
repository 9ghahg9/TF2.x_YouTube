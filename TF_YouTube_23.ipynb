{
 "cells": [
  {
   "cell_type": "markdown",
   "metadata": {},
   "source": [
    "# GRU 기반의 삼성전자 주가 예측"
   ]
  },
  {
   "cell_type": "markdown",
   "metadata": {},
   "source": [
    "## <span style=\"font-size:25px\">Data 가져오기</span>"
   ]
  },
  {
   "cell_type": "code",
   "execution_count": null,
   "metadata": {},
   "outputs": [],
   "source": [
    "import FinanceDataReader as fdr\n",
    "import pandas as pd\n",
    "\n",
    "df = fdr.DataReader(f'YAHOO:005930.KS')\n",
    "#df"
   ]
  },
  {
   "cell_type": "code",
   "execution_count": 2,
   "metadata": {},
   "outputs": [],
   "source": [
    "df['3MA'] = df['Adj Close'].rolling(window=3).mean()    # 3일 선\n",
    "df['5MA'] = df['Adj Close'].rolling(window=5).mean()    # 5일 선\n",
    "\n",
    "df = df[['Open', 'High', 'Low', 'Close', 'Adj Close', 'Volume', '3MA', '5MA']]\n",
    "#df"
   ]
  },
  {
   "cell_type": "code",
   "execution_count": 16,
   "metadata": {},
   "outputs": [],
   "source": [
    "df.to_csv('./datafile/삼성전자25-02-07.csv')"
   ]
  },
  {
   "cell_type": "markdown",
   "metadata": {},
   "source": [
    "## <span style=\"font-size:25px\">개발 과정 - 시계열 데이터 분석 및 예측</span>"
   ]
  },
  {
   "cell_type": "markdown",
   "metadata": {},
   "source": [
    "<dl>\n",
    "<dt style=\"font-size:20px\">▶ 데이터 로드 및 분포 확인</dt>\n",
    "<dd style=\"font-size:18px\">\n",
    "✔ dt=pd.read_csv(), df.describe(), df.hist(), plot() 등\n",
    "</dd>\n",
    "\n",
    "<br>\n",
    "<dt style=\"font-size:20px\">▶ 데이터 전처리</dt>\n",
    "<dd style=\"font-size:18px\">\n",
    "✔ outlier / missing value 확인 후 대체(또는 삭제) 처리\n",
    "<br>\n",
    "<br>✔ 데이터 정규화(normalization) / 표준화(standardization)\n",
    "<br>\n",
    "<br>✔ 딥러닝 학습을 위한 feature column / label column 정의\n",
    "</dd>\n",
    "\n",
    "<br>\n",
    "<dt style=\"font-size:20px\">▶ 데이터 생성</dt>\n",
    "<dd style=\"font-size:18px\">\n",
    "✔ window size 설정 후 feature / label 시계열 데이터 생성\n",
    "<br>\n",
    "<br>✔ 학습 데이터 생성. 이때 입력 데이터는 (batch_size, time_step, \n",
    "<br>　 input_dims) 형태의 3차원 텐서로 생성되어야 함\n",
    "</dd>\n",
    "\n",
    "<br>\n",
    "<dt style=\"font-size:20px\">▶ 순환신경망 모델 구축 및 학습</dt>\n",
    "</dl>"
   ]
  },
  {
   "cell_type": "markdown",
   "metadata": {},
   "source": [
    "## <span style=\"font-size:25px\">데이터 로드 및 분포확인</span>"
   ]
  },
  {
   "cell_type": "code",
   "execution_count": 3,
   "metadata": {},
   "outputs": [],
   "source": [
    "import numpy as np\n",
    "import pandas as pd\n",
    "import matplotlib.pyplot as plt\n",
    "import tensorflow as tf\n",
    "from tensorflow.keras.models import Sequential\n",
    "from tensorflow.keras.layers import GRU, Dense, Dropout\n",
    "from sklearn.preprocessing import MinMaxScaler"
   ]
  },
  {
   "cell_type": "code",
   "execution_count": 6,
   "metadata": {},
   "outputs": [
    {
     "data": {
      "text/html": [
       "<div>\n",
       "<style scoped>\n",
       "    .dataframe tbody tr th:only-of-type {\n",
       "        vertical-align: middle;\n",
       "    }\n",
       "\n",
       "    .dataframe tbody tr th {\n",
       "        vertical-align: top;\n",
       "    }\n",
       "\n",
       "    .dataframe thead th {\n",
       "        text-align: right;\n",
       "    }\n",
       "</style>\n",
       "<table border=\"1\" class=\"dataframe\">\n",
       "  <thead>\n",
       "    <tr style=\"text-align: right;\">\n",
       "      <th></th>\n",
       "      <th>Unnamed: 0</th>\n",
       "      <th>Open</th>\n",
       "      <th>High</th>\n",
       "      <th>Low</th>\n",
       "      <th>Close</th>\n",
       "      <th>Adj Close</th>\n",
       "      <th>Volume</th>\n",
       "      <th>3MA</th>\n",
       "      <th>5MA</th>\n",
       "    </tr>\n",
       "  </thead>\n",
       "  <tbody>\n",
       "    <tr>\n",
       "      <th>0</th>\n",
       "      <td>2000-01-04</td>\n",
       "      <td>6000.0</td>\n",
       "      <td>6110.0</td>\n",
       "      <td>5660.0</td>\n",
       "      <td>6110.0</td>\n",
       "      <td>4375.401855</td>\n",
       "      <td>74195000</td>\n",
       "      <td>NaN</td>\n",
       "      <td>NaN</td>\n",
       "    </tr>\n",
       "    <tr>\n",
       "      <th>1</th>\n",
       "      <td>2000-01-05</td>\n",
       "      <td>5800.0</td>\n",
       "      <td>6060.0</td>\n",
       "      <td>5520.0</td>\n",
       "      <td>5580.0</td>\n",
       "      <td>3995.864502</td>\n",
       "      <td>74680000</td>\n",
       "      <td>NaN</td>\n",
       "      <td>NaN</td>\n",
       "    </tr>\n",
       "    <tr>\n",
       "      <th>2</th>\n",
       "      <td>2000-01-06</td>\n",
       "      <td>5750.0</td>\n",
       "      <td>5780.0</td>\n",
       "      <td>5580.0</td>\n",
       "      <td>5620.0</td>\n",
       "      <td>4024.508545</td>\n",
       "      <td>54390000</td>\n",
       "      <td>4131.924967</td>\n",
       "      <td>NaN</td>\n",
       "    </tr>\n",
       "    <tr>\n",
       "      <th>3</th>\n",
       "      <td>2000-01-07</td>\n",
       "      <td>5560.0</td>\n",
       "      <td>5670.0</td>\n",
       "      <td>5360.0</td>\n",
       "      <td>5540.0</td>\n",
       "      <td>3967.221191</td>\n",
       "      <td>40305000</td>\n",
       "      <td>3995.864746</td>\n",
       "      <td>NaN</td>\n",
       "    </tr>\n",
       "    <tr>\n",
       "      <th>4</th>\n",
       "      <td>2000-01-10</td>\n",
       "      <td>5600.0</td>\n",
       "      <td>5770.0</td>\n",
       "      <td>5580.0</td>\n",
       "      <td>5770.0</td>\n",
       "      <td>4131.926270</td>\n",
       "      <td>46880000</td>\n",
       "      <td>4041.218669</td>\n",
       "      <td>4098.984473</td>\n",
       "    </tr>\n",
       "  </tbody>\n",
       "</table>\n",
       "</div>"
      ],
      "text/plain": [
       "   Unnamed: 0    Open    High     Low   Close    Adj Close    Volume  \\\n",
       "0  2000-01-04  6000.0  6110.0  5660.0  6110.0  4375.401855  74195000   \n",
       "1  2000-01-05  5800.0  6060.0  5520.0  5580.0  3995.864502  74680000   \n",
       "2  2000-01-06  5750.0  5780.0  5580.0  5620.0  4024.508545  54390000   \n",
       "3  2000-01-07  5560.0  5670.0  5360.0  5540.0  3967.221191  40305000   \n",
       "4  2000-01-10  5600.0  5770.0  5580.0  5770.0  4131.926270  46880000   \n",
       "\n",
       "           3MA          5MA  \n",
       "0          NaN          NaN  \n",
       "1          NaN          NaN  \n",
       "2  4131.924967          NaN  \n",
       "3  3995.864746          NaN  \n",
       "4  4041.218669  4098.984473  "
      ]
     },
     "execution_count": 6,
     "metadata": {},
     "output_type": "execute_result"
    }
   ],
   "source": [
    "raw_df = pd.read_csv('./datafile/삼성전자25-02-07.csv')\n",
    "raw_df.head()"
   ]
  },
  {
   "cell_type": "code",
   "execution_count": 7,
   "metadata": {},
   "outputs": [
    {
     "data": {
      "image/png": "[encoded data removed]",
      "text/plain": [
       "<Figure size 700x400 with 1 Axes>"
      ]
     },
     "metadata": {},
     "output_type": "display_data"
    }
   ],
   "source": [
    "plt.figure(figsize=(7, 4))\n",
    "\n",
    "plt.title('SUMSUNG ELECTRONIC STOCK PRICE')\n",
    "plt.xlabel('period (day)')\n",
    "plt.ylabel('price (won)')\n",
    "plt.grid()\n",
    "\n",
    "plt.plot(raw_df['Adj Close'], label='Adj Close')\n",
    "plt.legend(loc='best')\n",
    "\n",
    "plt.show()"
   ]
  },
  {
   "cell_type": "markdown",
   "metadata": {},
   "source": [
    "## <span style=\"font-size:25px\">데이터 전처리</span>"
   ]
  },
  {
   "cell_type": "markdown",
   "metadata": {},
   "source": [
    "### <span style=\"font-size:23px\">Outlier 확인</span>"
   ]
  },
  {
   "cell_type": "code",
   "execution_count": 8,
   "metadata": {},
   "outputs": [
    {
     "data": {
      "text/html": [
       "<div>\n",
       "<style scoped>\n",
       "    .dataframe tbody tr th:only-of-type {\n",
       "        vertical-align: middle;\n",
       "    }\n",
       "\n",
       "    .dataframe tbody tr th {\n",
       "        vertical-align: top;\n",
       "    }\n",
       "\n",
       "    .dataframe thead th {\n",
       "        text-align: right;\n",
       "    }\n",
       "</style>\n",
       "<table border=\"1\" class=\"dataframe\">\n",
       "  <thead>\n",
       "    <tr style=\"text-align: right;\">\n",
       "      <th></th>\n",
       "      <th>Open</th>\n",
       "      <th>High</th>\n",
       "      <th>Low</th>\n",
       "      <th>Close</th>\n",
       "      <th>Adj Close</th>\n",
       "      <th>Volume</th>\n",
       "      <th>3MA</th>\n",
       "      <th>5MA</th>\n",
       "    </tr>\n",
       "  </thead>\n",
       "  <tbody>\n",
       "    <tr>\n",
       "      <th>count</th>\n",
       "      <td>6284.000000</td>\n",
       "      <td>6284.00000</td>\n",
       "      <td>6284.000000</td>\n",
       "      <td>6284.000000</td>\n",
       "      <td>6284.000000</td>\n",
       "      <td>6.284000e+03</td>\n",
       "      <td>6282.000000</td>\n",
       "      <td>6280.000000</td>\n",
       "    </tr>\n",
       "    <tr>\n",
       "      <th>mean</th>\n",
       "      <td>29302.458625</td>\n",
       "      <td>29589.49077</td>\n",
       "      <td>29005.682686</td>\n",
       "      <td>29290.700191</td>\n",
       "      <td>25117.107455</td>\n",
       "      <td>2.121077e+07</td>\n",
       "      <td>25115.863476</td>\n",
       "      <td>25114.736012</td>\n",
       "    </tr>\n",
       "    <tr>\n",
       "      <th>std</th>\n",
       "      <td>23131.602333</td>\n",
       "      <td>23318.49323</td>\n",
       "      <td>22926.957773</td>\n",
       "      <td>23107.096718</td>\n",
       "      <td>22408.355823</td>\n",
       "      <td>1.494993e+07</td>\n",
       "      <td>22404.397379</td>\n",
       "      <td>22401.148536</td>\n",
       "    </tr>\n",
       "    <tr>\n",
       "      <th>min</th>\n",
       "      <td>2540.000000</td>\n",
       "      <td>2760.00000</td>\n",
       "      <td>2420.000000</td>\n",
       "      <td>2730.000000</td>\n",
       "      <td>1954.965942</td>\n",
       "      <td>0.000000e+00</td>\n",
       "      <td>1997.932292</td>\n",
       "      <td>2012.254272</td>\n",
       "    </tr>\n",
       "    <tr>\n",
       "      <th>25%</th>\n",
       "      <td>10900.000000</td>\n",
       "      <td>11020.00000</td>\n",
       "      <td>10720.000000</td>\n",
       "      <td>10880.000000</td>\n",
       "      <td>7862.832031</td>\n",
       "      <td>1.175840e+07</td>\n",
       "      <td>7886.701782</td>\n",
       "      <td>7873.810913</td>\n",
       "    </tr>\n",
       "    <tr>\n",
       "      <th>50%</th>\n",
       "      <td>22580.000000</td>\n",
       "      <td>22840.00000</td>\n",
       "      <td>22400.000000</td>\n",
       "      <td>22620.000000</td>\n",
       "      <td>17676.513672</td>\n",
       "      <td>1.725485e+07</td>\n",
       "      <td>17702.696940</td>\n",
       "      <td>17748.369727</td>\n",
       "    </tr>\n",
       "    <tr>\n",
       "      <th>75%</th>\n",
       "      <td>46850.000000</td>\n",
       "      <td>47205.00000</td>\n",
       "      <td>46400.000000</td>\n",
       "      <td>46900.000000</td>\n",
       "      <td>39350.039062</td>\n",
       "      <td>2.628737e+07</td>\n",
       "      <td>39383.919271</td>\n",
       "      <td>39336.425391</td>\n",
       "    </tr>\n",
       "    <tr>\n",
       "      <th>max</th>\n",
       "      <td>90300.000000</td>\n",
       "      <td>96800.00000</td>\n",
       "      <td>89500.000000</td>\n",
       "      <td>91000.000000</td>\n",
       "      <td>86718.812500</td>\n",
       "      <td>1.642150e+08</td>\n",
       "      <td>86652.966146</td>\n",
       "      <td>86462.015625</td>\n",
       "    </tr>\n",
       "  </tbody>\n",
       "</table>\n",
       "</div>"
      ],
      "text/plain": [
       "               Open         High           Low         Close     Adj Close  \\\n",
       "count   6284.000000   6284.00000   6284.000000   6284.000000   6284.000000   \n",
       "mean   29302.458625  29589.49077  29005.682686  29290.700191  25117.107455   \n",
       "std    23131.602333  23318.49323  22926.957773  23107.096718  22408.355823   \n",
       "min     2540.000000   2760.00000   2420.000000   2730.000000   1954.965942   \n",
       "25%    10900.000000  11020.00000  10720.000000  10880.000000   7862.832031   \n",
       "50%    22580.000000  22840.00000  22400.000000  22620.000000  17676.513672   \n",
       "75%    46850.000000  47205.00000  46400.000000  46900.000000  39350.039062   \n",
       "max    90300.000000  96800.00000  89500.000000  91000.000000  86718.812500   \n",
       "\n",
       "             Volume           3MA           5MA  \n",
       "count  6.284000e+03   6282.000000   6280.000000  \n",
       "mean   2.121077e+07  25115.863476  25114.736012  \n",
       "std    1.494993e+07  22404.397379  22401.148536  \n",
       "min    0.000000e+00   1997.932292   2012.254272  \n",
       "25%    1.175840e+07   7886.701782   7873.810913  \n",
       "50%    1.725485e+07  17702.696940  17748.369727  \n",
       "75%    2.628737e+07  39383.919271  39336.425391  \n",
       "max    1.642150e+08  86652.966146  86462.015625  "
      ]
     },
     "execution_count": 8,
     "metadata": {},
     "output_type": "execute_result"
    }
   ],
   "source": [
    "raw_df.describe()"
   ]
  },
  {
   "cell_type": "code",
   "execution_count": 9,
   "metadata": {},
   "outputs": [
    {
     "data": {
      "text/plain": [
       "Unnamed: 0    0\n",
       "Open          0\n",
       "High          0\n",
       "Low           0\n",
       "Close         0\n",
       "Adj Close     0\n",
       "Volume        0\n",
       "3MA           2\n",
       "5MA           4\n",
       "dtype: int64"
      ]
     },
     "execution_count": 9,
     "metadata": {},
     "output_type": "execute_result"
    }
   ],
   "source": [
    "raw_df.isnull().sum()"
   ]
  },
  {
   "cell_type": "code",
   "execution_count": 13,
   "metadata": {},
   "outputs": [
    {
     "data": {
      "text/html": [
       "<div>\n",
       "<style scoped>\n",
       "    .dataframe tbody tr th:only-of-type {\n",
       "        vertical-align: middle;\n",
       "    }\n",
       "\n",
       "    .dataframe tbody tr th {\n",
       "        vertical-align: top;\n",
       "    }\n",
       "\n",
       "    .dataframe thead th {\n",
       "        text-align: right;\n",
       "    }\n",
       "</style>\n",
       "<table border=\"1\" class=\"dataframe\">\n",
       "  <thead>\n",
       "    <tr style=\"text-align: right;\">\n",
       "      <th></th>\n",
       "      <th>Unnamed: 0</th>\n",
       "      <th>Open</th>\n",
       "      <th>High</th>\n",
       "      <th>Low</th>\n",
       "      <th>Close</th>\n",
       "      <th>Adj Close</th>\n",
       "      <th>Volume</th>\n",
       "      <th>3MA</th>\n",
       "      <th>5MA</th>\n",
       "    </tr>\n",
       "  </thead>\n",
       "  <tbody>\n",
       "    <tr>\n",
       "      <th>0</th>\n",
       "      <td>2000-01-04</td>\n",
       "      <td>6000.0</td>\n",
       "      <td>6110.0</td>\n",
       "      <td>5660.0</td>\n",
       "      <td>6110.0</td>\n",
       "      <td>4375.401855</td>\n",
       "      <td>74195000</td>\n",
       "      <td>NaN</td>\n",
       "      <td>NaN</td>\n",
       "    </tr>\n",
       "    <tr>\n",
       "      <th>1</th>\n",
       "      <td>2000-01-05</td>\n",
       "      <td>5800.0</td>\n",
       "      <td>6060.0</td>\n",
       "      <td>5520.0</td>\n",
       "      <td>5580.0</td>\n",
       "      <td>3995.864502</td>\n",
       "      <td>74680000</td>\n",
       "      <td>NaN</td>\n",
       "      <td>NaN</td>\n",
       "    </tr>\n",
       "    <tr>\n",
       "      <th>2</th>\n",
       "      <td>2000-01-06</td>\n",
       "      <td>5750.0</td>\n",
       "      <td>5780.0</td>\n",
       "      <td>5580.0</td>\n",
       "      <td>5620.0</td>\n",
       "      <td>4024.508545</td>\n",
       "      <td>54390000</td>\n",
       "      <td>4131.924967</td>\n",
       "      <td>NaN</td>\n",
       "    </tr>\n",
       "    <tr>\n",
       "      <th>3</th>\n",
       "      <td>2000-01-07</td>\n",
       "      <td>5560.0</td>\n",
       "      <td>5670.0</td>\n",
       "      <td>5360.0</td>\n",
       "      <td>5540.0</td>\n",
       "      <td>3967.221191</td>\n",
       "      <td>40305000</td>\n",
       "      <td>3995.864746</td>\n",
       "      <td>NaN</td>\n",
       "    </tr>\n",
       "  </tbody>\n",
       "</table>\n",
       "</div>"
      ],
      "text/plain": [
       "   Unnamed: 0    Open    High     Low   Close    Adj Close    Volume  \\\n",
       "0  2000-01-04  6000.0  6110.0  5660.0  6110.0  4375.401855  74195000   \n",
       "1  2000-01-05  5800.0  6060.0  5520.0  5580.0  3995.864502  74680000   \n",
       "2  2000-01-06  5750.0  5780.0  5580.0  5620.0  4024.508545  54390000   \n",
       "3  2000-01-07  5560.0  5670.0  5360.0  5540.0  3967.221191  40305000   \n",
       "\n",
       "           3MA  5MA  \n",
       "0          NaN  NaN  \n",
       "1          NaN  NaN  \n",
       "2  4131.924967  NaN  \n",
       "3  3995.864746  NaN  "
      ]
     },
     "execution_count": 13,
     "metadata": {},
     "output_type": "execute_result"
    }
   ],
   "source": [
    "raw_df.loc[raw_df['5MA'].isna()]"
   ]
  },
  {
   "cell_type": "markdown",
   "metadata": {},
   "source": [
    "### <span style=\"font-size:23px\">Outlier 및 Missing Value 처리</span>"
   ]
  },
  {
   "cell_type": "code",
   "execution_count": 14,
   "metadata": {},
   "outputs": [
    {
     "name": "stdout",
     "output_type": "stream",
     "text": [
      "Unnamed: 0: 0\n",
      "Open: 0\n",
      "High: 0\n",
      "Low: 0\n",
      "Close: 0\n",
      "Adj Close: 0\n",
      "Volume: 127\n",
      "3MA: 0\n",
      "5MA: 0\n"
     ]
    }
   ],
   "source": [
    "# 0 제거 전\n",
    "\n",
    "for col in raw_df.columns:\n",
    "    missing_rows = raw_df.loc[raw_df[col]==0].shape[0]\n",
    "    print(col + ': ' + str(missing_rows))"
   ]
  },
  {
   "cell_type": "code",
   "execution_count": 16,
   "metadata": {},
   "outputs": [
    {
     "name": "stdout",
     "output_type": "stream",
     "text": [
      "Unnamed: 0: 0\n",
      "Open: 0\n",
      "High: 0\n",
      "Low: 0\n",
      "Close: 0\n",
      "Adj Close: 0\n",
      "Volume: 0\n",
      "3MA: 0\n",
      "5MA: 0\n"
     ]
    }
   ],
   "source": [
    "# Volume 값이 0인 부분을 모두 NAN으로 대체(replace)\n",
    "raw_df['Volume'] = raw_df['Volume'].replace(0, np.nan)\n",
    "\n",
    "# 각 Column에 0 개수 확인\n",
    "for col in raw_df.columns:\n",
    "    missing_rows = raw_df[raw_df[col]==0].shape[0]\n",
    "    print(col + ': ' + str(missing_rows))"
   ]
  },
  {
   "cell_type": "code",
   "execution_count": 17,
   "metadata": {},
   "outputs": [
    {
     "data": {
      "text/plain": [
       "Unnamed: 0      0\n",
       "Open            0\n",
       "High            0\n",
       "Low             0\n",
       "Close           0\n",
       "Adj Close       0\n",
       "Volume        127\n",
       "3MA             2\n",
       "5MA             4\n",
       "dtype: int64"
      ]
     },
     "execution_count": 17,
     "metadata": {},
     "output_type": "execute_result"
    }
   ],
   "source": [
    "# 모든 Missing Value 삭제\n",
    "raw_df.isnull().sum()"
   ]
  },
  {
   "cell_type": "code",
   "execution_count": 18,
   "metadata": {},
   "outputs": [
    {
     "data": {
      "text/plain": [
       "Unnamed: 0    0\n",
       "Open          0\n",
       "High          0\n",
       "Low           0\n",
       "Close         0\n",
       "Adj Close     0\n",
       "Volume        0\n",
       "3MA           0\n",
       "5MA           0\n",
       "dtype: int64"
      ]
     },
     "execution_count": 18,
     "metadata": {},
     "output_type": "execute_result"
    }
   ],
   "source": [
    "raw_df = raw_df.dropna()\n",
    "raw_df.isnull().sum()"
   ]
  },
  {
   "cell_type": "markdown",
   "metadata": {},
   "source": [
    "### <span style=\"font-size:23px\">정규화(Normalizaion)</span>"
   ]
  },
  {
   "cell_type": "code",
   "execution_count": 21,
   "metadata": {},
   "outputs": [
    {
     "name": "stdout",
     "output_type": "stream",
     "text": [
      "<class 'numpy.ndarray'>\n",
      "          Open      High       Low     Close  Adj Close       3MA       5MA  \\\n",
      "0     0.034868  0.032008  0.036288  0.034440   0.025683  0.024137  0.024544   \n",
      "1     0.037375  0.035517  0.038470  0.034440   0.025683  0.024560  0.023968   \n",
      "2     0.034982  0.031689  0.036518  0.033873   0.025260  0.025067  0.024205   \n",
      "3     0.034868  0.031689  0.036059  0.033760   0.025176  0.024898  0.024358   \n",
      "4     0.036235  0.033177  0.037437  0.035120   0.026190  0.025067  0.024850   \n",
      "...        ...       ...       ...       ...        ...       ...       ...   \n",
      "6148  0.553327  0.517227  0.555581  0.546845   0.578608  0.594988  0.603934   \n",
      "6149  0.559025  0.540621  0.563620  0.566104   0.598664  0.591051  0.600144   \n",
      "6150  0.581814  0.542748  0.578548  0.568370   0.601023  0.593019  0.598249   \n",
      "6151  0.579535  0.544875  0.583142  0.580832   0.614000  0.604832  0.598960   \n",
      "6152  0.585232  0.547001  0.587735  0.577433   0.610461  0.608769  0.602039   \n",
      "\n",
      "        Volume  \n",
      "0     0.285359  \n",
      "1     0.363715  \n",
      "2     0.177799  \n",
      "3     0.250704  \n",
      "4     0.300555  \n",
      "...        ...  \n",
      "6148  0.196832  \n",
      "6149  0.165586  \n",
      "6150  0.097128  \n",
      "6151  0.100120  \n",
      "6152  0.088004  \n",
      "\n",
      "[6153 rows x 8 columns]\n"
     ]
    }
   ],
   "source": [
    "scaler = MinMaxScaler()\n",
    "scale_cols = ['Open', 'High', 'Low', 'Close', 'Adj Close', \n",
    "              '3MA', '5MA', 'Volume']\n",
    "\n",
    "scaled_df = scaler.fit_transform(raw_df[scale_cols])\n",
    "print(type(scaled_df))\n",
    "\n",
    "scaled_df = pd.DataFrame(scaled_df, columns=scale_cols)\n",
    "print(scaled_df)"
   ]
  },
  {
   "cell_type": "markdown",
   "metadata": {},
   "source": [
    "### <span style=\"font-size:23px\">feature / label column 정의</span>"
   ]
  },
  {
   "cell_type": "code",
   "execution_count": 23,
   "metadata": {},
   "outputs": [],
   "source": [
    "feature_cols = ['3MA', '5MA', 'Adj Close']\n",
    "label_cols = ['Adj Close']\n",
    "\n",
    "feature_df = pd.DataFrame(scaled_df, columns=feature_cols)\n",
    "label_df = pd.DataFrame(scaled_df, columns=label_cols)\n",
    "\n",
    "feature_np = feature_df.to_numpy()\n",
    "label_np = label_df.to_numpy()"
   ]
  },
  {
   "cell_type": "markdown",
   "metadata": {},
   "source": [
    "## <span style=\"font-size:23px\">데이터 생성 - 입력 데이터(feature) / 정답 데이터(label)</span>"
   ]
  },
  {
   "cell_type": "code",
   "execution_count": 27,
   "metadata": {},
   "outputs": [],
   "source": [
    "def seq2dataSet(feat, lab, window_size):\n",
    "    feat_list, lab_list = [], []\n",
    "    for i in range(len(feat)-window_size):\n",
    "        feat_list.append(feat[i:i+window_size])\n",
    "        lab_list.append(lab[i+window_size])\n",
    "    return np.array(feat_list), np.array(lab_list)"
   ]
  },
  {
   "cell_type": "code",
   "execution_count": 28,
   "metadata": {},
   "outputs": [
    {
     "name": "stdout",
     "output_type": "stream",
     "text": [
      "(6113, 40, 3) (6113, 1)\n"
     ]
    }
   ],
   "source": [
    "X, Y = seq2dataSet(feature_np, label_np, window_size=40)\n",
    "print(X.shape, Y.shape)"
   ]
  },
  {
   "cell_type": "markdown",
   "metadata": {},
   "source": [
    "## <span style=\"font-size:23px\">데이터 분리 및 모델구축</span>"
   ]
  },
  {
   "cell_type": "code",
   "execution_count": 29,
   "metadata": {},
   "outputs": [
    {
     "name": "stdout",
     "output_type": "stream",
     "text": [
      "(5501, 40, 3) (5501, 1) (612, 40, 3) (612, 1)\n"
     ]
    }
   ],
   "source": [
    "# 트레이닝 / 테스트 데이터 분리\n",
    "split_ratio = 0.9\n",
    "split = int(X.shape[0] * split_ratio)\n",
    "x_train = X[:split]\n",
    "t_train = Y[:split]\n",
    "x_test = X[split:]\n",
    "t_test = Y[split:]\n",
    "\n",
    "print(x_train.shape, t_train.shape, \n",
    "      x_test.shape, t_test.shape)"
   ]
  },
  {
   "cell_type": "code",
   "execution_count": 34,
   "metadata": {},
   "outputs": [
    {
     "name": "stdout",
     "output_type": "stream",
     "text": [
      "Model: \"sequential_3\"\n",
      "_________________________________________________________________\n",
      " Layer (type)                Output Shape              Param #   \n",
      "=================================================================\n",
      " gru_5 (GRU)                 (None, 40, 256)           200448    \n",
      "                                                                 \n",
      " gru_6 (GRU)                 (None, 256)               394752    \n",
      "                                                                 \n",
      " dropout_2 (Dropout)         (None, 256)               0         \n",
      "                                                                 \n",
      " dense_3 (Dense)             (None, 1)                 257       \n",
      "                                                                 \n",
      "=================================================================\n",
      "Total params: 595,457\n",
      "Trainable params: 595,457\n",
      "Non-trainable params: 0\n",
      "_________________________________________________________________\n"
     ]
    }
   ],
   "source": [
    "rnn = Sequential([\n",
    "    GRU(256, activation='tanh', input_shape=x_train[0].shape, \n",
    "        return_sequences=True),\n",
    "    GRU(256, activation='tanh'),\n",
    "    Dropout(0.2),\n",
    "    Dense(1, activation='linear')\n",
    "])\n",
    "\n",
    "rnn.summary()"
   ]
  },
  {
   "cell_type": "code",
   "execution_count": 35,
   "metadata": {},
   "outputs": [
    {
     "name": "stdout",
     "output_type": "stream",
     "text": [
      "Epoch 1/100\n",
      "344/344 [==============================] - 6s 12ms/step - loss: 9.4614e-04 - mae: 0.0154 - val_loss: 0.0012 - val_mae: 0.0292\n",
      "Epoch 2/100\n",
      "344/344 [==============================] - 4s 10ms/step - loss: 4.4494e-04 - mae: 0.0137 - val_loss: 2.6240e-04 - val_mae: 0.0120\n",
      "Epoch 3/100\n",
      "344/344 [==============================] - 3s 10ms/step - loss: 3.7665e-04 - mae: 0.0128 - val_loss: 2.1793e-04 - val_mae: 0.0109\n",
      "Epoch 4/100\n",
      "344/344 [==============================] - 3s 10ms/step - loss: 3.3512e-04 - mae: 0.0116 - val_loss: 3.8287e-04 - val_mae: 0.0161\n",
      "Epoch 5/100\n",
      "344/344 [==============================] - 4s 11ms/step - loss: 2.8455e-04 - mae: 0.0109 - val_loss: 2.9967e-04 - val_mae: 0.0139\n",
      "Epoch 6/100\n",
      "344/344 [==============================] - 4s 10ms/step - loss: 2.3878e-04 - mae: 0.0100 - val_loss: 2.0473e-04 - val_mae: 0.0108\n",
      "Epoch 7/100\n",
      "344/344 [==============================] - 4s 10ms/step - loss: 2.3889e-04 - mae: 0.0097 - val_loss: 0.0014 - val_mae: 0.0347\n",
      "Epoch 8/100\n",
      "344/344 [==============================] - 3s 10ms/step - loss: 2.8894e-04 - mae: 0.0114 - val_loss: 2.1303e-04 - val_mae: 0.0113\n",
      "Epoch 9/100\n",
      "344/344 [==============================] - 4s 10ms/step - loss: 2.4596e-04 - mae: 0.0104 - val_loss: 2.3103e-04 - val_mae: 0.0114\n",
      "Epoch 10/100\n",
      "344/344 [==============================] - 4s 11ms/step - loss: 2.0701e-04 - mae: 0.0094 - val_loss: 1.8106e-04 - val_mae: 0.0101\n",
      "Epoch 11/100\n",
      "344/344 [==============================] - 4s 10ms/step - loss: 2.0274e-04 - mae: 0.0091 - val_loss: 4.1727e-04 - val_mae: 0.0173\n",
      "Epoch 12/100\n",
      "344/344 [==============================] - 4s 11ms/step - loss: 2.4614e-04 - mae: 0.0101 - val_loss: 4.7019e-04 - val_mae: 0.0187\n",
      "Epoch 13/100\n",
      "344/344 [==============================] - 4s 11ms/step - loss: 2.1199e-04 - mae: 0.0094 - val_loss: 8.9811e-04 - val_mae: 0.0268\n",
      "Epoch 14/100\n",
      "344/344 [==============================] - 4s 10ms/step - loss: 2.4887e-04 - mae: 0.0101 - val_loss: 0.0016 - val_mae: 0.0369\n",
      "Epoch 15/100\n",
      "344/344 [==============================] - 3s 10ms/step - loss: 1.7998e-04 - mae: 0.0086 - val_loss: 4.6287e-04 - val_mae: 0.0181\n"
     ]
    },
    {
     "data": {
      "text/plain": [
       "<keras.callbacks.History at 0x2040027f7c0>"
      ]
     },
     "execution_count": 35,
     "metadata": {},
     "output_type": "execute_result"
    }
   ],
   "source": [
    "from tensorflow.keras.callbacks import EarlyStopping\n",
    "rnn.compile(loss='mse', optimizer='adam', metrics=['mae'])\n",
    "early_stop = EarlyStopping(monitor='val_loss', patience=5)\n",
    "rnn.fit(x_train, t_train, batch_size=16, epochs=100, \n",
    "        validation_data=(x_test, t_test), callbacks=[early_stop])"
   ]
  },
  {
   "cell_type": "code",
   "execution_count": 36,
   "metadata": {},
   "outputs": [
    {
     "name": "stdout",
     "output_type": "stream",
     "text": [
      "20/20 [==============================] - 1s 17ms/step\n"
     ]
    },
    {
     "data": {
      "text/plain": [
       "<matplotlib.legend.Legend at 0x2047cb05670>"
      ]
     },
     "execution_count": 36,
     "metadata": {},
     "output_type": "execute_result"
    },
    {
     "data": {
      "image/png": "[encoded data removed]",
      "text/plain": [
       "<Figure size 1200x600 with 1 Axes>"
      ]
     },
     "metadata": {},
     "output_type": "display_data"
    }
   ],
   "source": [
    "pred = rnn.predict(x_test)\n",
    "\n",
    "plt.figure(figsize=(12, 6))\n",
    "plt.title('PREDICTION SAMSUNG ELECTRONIC STOCK PRICE')\n",
    "plt.xlabel('period (day)')\n",
    "plt.ylabel('Adj Close price ($)')\n",
    "plt.grid()\n",
    "\n",
    "plt.plot(t_test, label='label')\n",
    "plt.plot(pred, label='prediction')\n",
    "plt.legend(loc='best')"
   ]
  }
 ],
 "metadata": {
  "kernelspec": {
   "display_name": "tfgpu",
   "language": "python",
   "name": "python3"
  },
  "language_info": {
   "codemirror_mode": {
    "name": "ipython",
    "version": 3
   },
   "file_extension": ".py",
   "mimetype": "text/x-python",
   "name": "python",
   "nbconvert_exporter": "python",
   "pygments_lexer": "ipython3",
   "version": "3.9.13"
  }
 },
 "nbformat": 4,
 "nbformat_minor": 2
}
