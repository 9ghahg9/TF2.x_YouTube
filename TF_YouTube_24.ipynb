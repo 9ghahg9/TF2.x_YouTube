{
 "cells": [
  {
   "cell_type": "markdown",
   "metadata": {},
   "source": [
    "# 함수형 API (Functional API)"
   ]
  },
  {
   "cell_type": "markdown",
   "metadata": {},
   "source": [
    "## <span style=\"font-size:25px\">모델 구축 - Sequential API vs Functional API</span>"
   ]
  },
  {
   "cell_type": "markdown",
   "metadata": {},
   "source": [
    "<dl>\n",
    "<dt style=\"font-size:20px\">▶ Functional API 모델의 필요성</dt>\n",
    "<dd style=\"font size:18px\">\n",
    "- 지금까지 사용해왔던 Sequential API 방식은 입력부터 출력까지 일직선으로 연결되어 있어 \n",
    "<br>&ensp;직관적이고 편리한 장점이 있으나, 여러 개의 층을 공유하거나 다양한 종류의 입력과 출력\n",
    "<br>&ensp;을 사용해서 복잡한 모델을 만드는 일에는, 일직선 구조로 인해 한계가 있음\n",
    "</dd>\n",
    "<br>\n",
    "<dd>\n",
    "- Sequential API와 Functional API 과정은 똑같음\n",
    "</dd>\n",
    "</dl>\n",
    "\n",
    "<img src=\"picture/TF_img_24_1.png\" alt=\"TF_img_24_1\" width=750>"
   ]
  },
  {
   "cell_type": "markdown",
   "metadata": {},
   "source": [
    "## <span style=\"font-size:25px\">Functional API 모델 구축</span>"
   ]
  },
  {
   "cell_type": "markdown",
   "metadata": {},
   "source": [
    "<table>\n",
    "<tr>\n",
    "<td>Sequential API 모델</td>\n",
    "<td>Functional API 모델</td>\n",
    "</tr>\n",
    "\n",
    "<tr>\n",
    "<td>\n",
    "<span style='color:#DA70FF'>import</span> <span style='color:#23C5A2'>tensorflow</span> <span style='color:#DA70FF'>as</span> <span style='color:#23C5A2'>tf</span>\n",
    "\n",
    "<span style='color:#DA70FF'>from</span> <span style='color:#23C5A2'>tensorflow.keras.models</span> <span style='color:#DA70FF'>import</span> <span style='color:#23C5A2'>Sequential</span>\n",
    "<br><span style='color:#DA70FF'>from</span> <span style='color:#23C5A2'>tensorflow.keras.layers</span> <span style='color:#DA70FF'>import</span> <span style='color:#23C5A2'>Dense</span>\n",
    "\n",
    "model = Sequential()\n",
    "\n",
    "model.add(Dense(<span style='color:#99FEA0'>8</span>, activation='relu', input_shape(<span style='color:#99FEA0'>4</span>,)))\n",
    "<br>model.add(Dense(<span style='color:#99FEA0'>16</span>, activation='relu'))\n",
    "<br>model.add(Dense(<span style='color:#99FEA0'>32</span>, activation='relu'))\n",
    "\n",
    "model.add(Dense(<span style='color:#99FEA0'>10</span>, activation='softmax'))\n",
    "\n",
    "model.summary()\n",
    "</td>\n",
    "<td><br>\n",
    "<span style='color:#DA70FF'>import</span> <span style='color:#23C5A2'>tensorflow</span> <span style='color:#DA70FF'>as</span> <span style='color:#23C5A2'>tf</span>\n",
    "\n",
    "<span style='color:#DA70FF'>from</span> <span style='color:#23C5A2'>tensorflow.keras.models</span> <span style='color:#DA70FF'>import</span> <span style='color:#23C5A2'>Model</span>\n",
    "<br><span style='color:#DA70FF'>from</span> <span style='color:#23C5A2'>tensorflow.keras.layers</span> <span style='color:#DA70FF'>import</span> <span style='color:#23C5A2'>input, Dense</span>\n",
    "\n",
    "input_ = input(shape=(<span style='color:#99FEA0'>4</span>,))\n",
    "\n",
    "x = Dense(<span style='color:#99FEA0'>8</span>, activation='relu')(input_)\n",
    "<br>x = Dense(<span style='color:#99FEA0'>16</span>, activation='relu')(x)\n",
    "<br>x = Dense(<span style='color:#99FEA0'>32</span>, activation='relu')(x)\n",
    "\n",
    "output_ = Dense(<span style='color:#99FEA0'>10</span>, activation='softmax')(x)\n",
    "\n",
    "model = Model(inputs=input_, outputs=output_)\n",
    "\n",
    "model.summary()\n",
    "</td>\n",
    "</tr>"
   ]
  },
  {
   "cell_type": "markdown",
   "metadata": {},
   "source": [
    "## <span style=\"font-size:25px\">다중 입력에 대한 Functional API 모델 구축 예시</span>"
   ]
  },
  {
   "cell_type": "code",
   "execution_count": 10,
   "metadata": {},
   "outputs": [
    {
     "name": "stdout",
     "output_type": "stream",
     "text": [
      "Model: \"model_9\"\n",
      "__________________________________________________________________________________________________\n",
      " Layer (type)                   Output Shape         Param #     Connected to                     \n",
      "==================================================================================================\n",
      " input_10 (InputLayer)          [(None, 4)]          0           []                               \n",
      "                                                                                                  \n",
      " dense_15 (Dense)               (None, 8)            40          ['input_10[0][0]']               \n",
      "                                                                                                  \n",
      " input_11 (InputLayer)          [(None, 8)]          0           []                               \n",
      "                                                                                                  \n",
      " dense_16 (Dense)               (None, 16)           144         ['dense_15[0][0]']               \n",
      "                                                                                                  \n",
      " dense_17 (Dense)               (None, 8)            72          ['input_11[0][0]']               \n",
      "                                                                                                  \n",
      " concatenate_2 (Concatenate)    (None, 24)           0           ['dense_16[0][0]',               \n",
      "                                                                  'dense_17[0][0]']               \n",
      "                                                                                                  \n",
      " dense_18 (Dense)               (None, 10)           250         ['concatenate_2[0][0]']          \n",
      "                                                                                                  \n",
      "==================================================================================================\n",
      "Total params: 506\n",
      "Trainable params: 506\n",
      "Non-trainable params: 0\n",
      "__________________________________________________________________________________________________\n"
     ]
    }
   ],
   "source": [
    "from tensorflow.keras.models import Model\n",
    "from tensorflow.keras.layers import Input, Dense, concatenate\n",
    "\n",
    "# 입력층 1에 대한 신경망\n",
    "input_1 = Input(shape=(4,))\n",
    "\n",
    "hidden_1 = Dense(8, activation='relu')(input_1)\n",
    "hidden_2 = Dense(16, activation='relu')(hidden_1)\n",
    "\n",
    "output_1 = Model(inputs=input_1, outputs=hidden_2)\n",
    "\n",
    "# 입력층 2에 대한 신경망\n",
    "input_2 = Input(shape=(8,))\n",
    "\n",
    "hidden_3 = Dense(8, activation='relu')(input_2)\n",
    "\n",
    "output_2 = Model(inputs=input_2, outputs=hidden_3)\n",
    "\n",
    "# 층 연결\n",
    "result = concatenate([output_1.output, output_2.output])\n",
    "\n",
    "# 출력층 정의\n",
    "output_ = Dense(10, activation='softmax')(result)\n",
    "\n",
    "# 최종 모델 구축\n",
    "model = Model(inputs=[output_1.input, output_2.input], outputs=output_)\n",
    "\n",
    "model.summary()"
   ]
  },
  {
   "cell_type": "code",
   "execution_count": 11,
   "metadata": {},
   "outputs": [
    {
     "name": "stdout",
     "output_type": "stream",
     "text": [
      "(60000, 28, 28, 1) (10000, 28, 28, 1)\n",
      "(60000,) (10000,)\n"
     ]
    }
   ],
   "source": [
    "import tensorflow as tf\n",
    "from tensorflow.keras.models import Model\n",
    "from tensorflow.keras.layers import Input, Conv2D, MaxPool2D\n",
    "from tensorflow.keras.layers import Flatten, Dense, Dropout\n",
    "from tensorflow.keras.datasets import mnist\n",
    "\n",
    "(x_train, t_train), (x_test, t_test) = mnist.load_data()\n",
    "\n",
    "x_train, x_test = x_train.reshape(-1, 28, 28, 1), x_test.reshape(-1, 28, 28 ,1)\n",
    "\n",
    "print(x_train.shape, x_test.shape), print(t_train.shape, t_test.shape)\n",
    "\n",
    "x_train = x_train / 255.0\n",
    "x_test = x_test / 255.0"
   ]
  },
  {
   "cell_type": "code",
   "execution_count": 12,
   "metadata": {},
   "outputs": [],
   "source": [
    "input_ = Input(shape=(28, 28, 1))\n",
    "\n",
    "x = Conv2D(32, 3, activation='relu')(input_)\n",
    "x = Conv2D(32, 3, activation='relu')(x)\n",
    "x = MaxPool2D(pool_size=(2, 2))(x)\n",
    "x = Dropout(0.25)(x)\n",
    "\n",
    "x = Flatten()(x)\n",
    "\n",
    "x = Dense(128, activation='relu')(x)\n",
    "x = Dropout(0.5)(x)\n",
    "\n",
    "output_ = Dense(10, activation='softmax')(x)\n",
    "\n",
    "cnn = Model(inputs=input_, outputs=output_)"
   ]
  },
  {
   "cell_type": "code",
   "execution_count": 13,
   "metadata": {},
   "outputs": [
    {
     "name": "stdout",
     "output_type": "stream",
     "text": [
      "Epoch 1/30\n",
      "469/469 [==============================] - 17s 7ms/step - loss: 0.2761 - accuracy: 0.9156 - val_loss: 0.0686 - val_accuracy: 0.9780\n",
      "Epoch 2/30\n",
      "469/469 [==============================] - 3s 6ms/step - loss: 0.1018 - accuracy: 0.9693 - val_loss: 0.0433 - val_accuracy: 0.9853\n",
      "Epoch 3/30\n",
      "469/469 [==============================] - 3s 6ms/step - loss: 0.0756 - accuracy: 0.9773 - val_loss: 0.0422 - val_accuracy: 0.9867\n",
      "Epoch 4/30\n",
      "469/469 [==============================] - 3s 6ms/step - loss: 0.0610 - accuracy: 0.9814 - val_loss: 0.0368 - val_accuracy: 0.9874\n",
      "Epoch 5/30\n",
      "469/469 [==============================] - 3s 6ms/step - loss: 0.0526 - accuracy: 0.9837 - val_loss: 0.0315 - val_accuracy: 0.9895\n",
      "Epoch 6/30\n",
      "469/469 [==============================] - 3s 6ms/step - loss: 0.0481 - accuracy: 0.9853 - val_loss: 0.0324 - val_accuracy: 0.9900\n",
      "Epoch 7/30\n",
      "469/469 [==============================] - 3s 6ms/step - loss: 0.0420 - accuracy: 0.9866 - val_loss: 0.0316 - val_accuracy: 0.9889\n",
      "Epoch 8/30\n",
      "469/469 [==============================] - 3s 6ms/step - loss: 0.0384 - accuracy: 0.9881 - val_loss: 0.0299 - val_accuracy: 0.9912\n",
      "Epoch 9/30\n",
      "469/469 [==============================] - 3s 6ms/step - loss: 0.0341 - accuracy: 0.9893 - val_loss: 0.0305 - val_accuracy: 0.9900\n",
      "Epoch 10/30\n",
      "469/469 [==============================] - 3s 7ms/step - loss: 0.0327 - accuracy: 0.9892 - val_loss: 0.0299 - val_accuracy: 0.9905\n",
      "Epoch 11/30\n",
      "469/469 [==============================] - 3s 6ms/step - loss: 0.0298 - accuracy: 0.9897 - val_loss: 0.0291 - val_accuracy: 0.9914\n",
      "Epoch 12/30\n",
      "469/469 [==============================] - 3s 6ms/step - loss: 0.0293 - accuracy: 0.9903 - val_loss: 0.0288 - val_accuracy: 0.9918\n",
      "Epoch 13/30\n",
      "469/469 [==============================] - 3s 6ms/step - loss: 0.0257 - accuracy: 0.9916 - val_loss: 0.0302 - val_accuracy: 0.9919\n",
      "Epoch 14/30\n",
      "469/469 [==============================] - 3s 6ms/step - loss: 0.0256 - accuracy: 0.9917 - val_loss: 0.0294 - val_accuracy: 0.9917\n",
      "Epoch 15/30\n",
      "469/469 [==============================] - 3s 6ms/step - loss: 0.0236 - accuracy: 0.9926 - val_loss: 0.0292 - val_accuracy: 0.9908\n",
      "Epoch 16/30\n",
      "469/469 [==============================] - 3s 6ms/step - loss: 0.0224 - accuracy: 0.9924 - val_loss: 0.0338 - val_accuracy: 0.9904\n",
      "Epoch 17/30\n",
      "469/469 [==============================] - 3s 6ms/step - loss: 0.0207 - accuracy: 0.9927 - val_loss: 0.0327 - val_accuracy: 0.9908\n",
      "Epoch 18/30\n",
      "469/469 [==============================] - 3s 6ms/step - loss: 0.0204 - accuracy: 0.9933 - val_loss: 0.0343 - val_accuracy: 0.9914\n",
      "Epoch 19/30\n",
      "469/469 [==============================] - 3s 6ms/step - loss: 0.0208 - accuracy: 0.9929 - val_loss: 0.0293 - val_accuracy: 0.9929\n",
      "Epoch 20/30\n",
      "469/469 [==============================] - 3s 7ms/step - loss: 0.0183 - accuracy: 0.9940 - val_loss: 0.0334 - val_accuracy: 0.9916\n",
      "Epoch 21/30\n",
      "469/469 [==============================] - 3s 7ms/step - loss: 0.0174 - accuracy: 0.9942 - val_loss: 0.0323 - val_accuracy: 0.9916\n",
      "Epoch 22/30\n",
      "469/469 [==============================] - 3s 7ms/step - loss: 0.0181 - accuracy: 0.9939 - val_loss: 0.0314 - val_accuracy: 0.9924\n",
      "Epoch 23/30\n",
      "469/469 [==============================] - 3s 6ms/step - loss: 0.0181 - accuracy: 0.9938 - val_loss: 0.0282 - val_accuracy: 0.9929\n",
      "Epoch 24/30\n",
      "469/469 [==============================] - 3s 6ms/step - loss: 0.0157 - accuracy: 0.9944 - val_loss: 0.0286 - val_accuracy: 0.9929\n",
      "Epoch 25/30\n",
      "469/469 [==============================] - 3s 7ms/step - loss: 0.0148 - accuracy: 0.9949 - val_loss: 0.0327 - val_accuracy: 0.9922\n",
      "Epoch 26/30\n",
      "469/469 [==============================] - 3s 6ms/step - loss: 0.0156 - accuracy: 0.9945 - val_loss: 0.0321 - val_accuracy: 0.9929\n",
      "Epoch 27/30\n",
      "469/469 [==============================] - 3s 6ms/step - loss: 0.0150 - accuracy: 0.9949 - val_loss: 0.0325 - val_accuracy: 0.9919\n",
      "Epoch 28/30\n",
      "469/469 [==============================] - 3s 7ms/step - loss: 0.0143 - accuracy: 0.9952 - val_loss: 0.0315 - val_accuracy: 0.9925\n",
      "Epoch 29/30\n",
      "469/469 [==============================] - 3s 6ms/step - loss: 0.0128 - accuracy: 0.9955 - val_loss: 0.0302 - val_accuracy: 0.9939\n",
      "Epoch 30/30\n",
      "469/469 [==============================] - 3s 6ms/step - loss: 0.0137 - accuracy: 0.9953 - val_loss: 0.0349 - val_accuracy: 0.9919\n"
     ]
    }
   ],
   "source": [
    "cnn.compile(loss='sparse_categorical_crossentropy', optimizer='adam', metrics=['accuracy'])\n",
    "hist = cnn.fit(x_train, t_train, batch_size=128, epochs=30, validation_data=(x_test, t_test))"
   ]
  },
  {
   "cell_type": "code",
   "execution_count": 16,
   "metadata": {},
   "outputs": [
    {
     "name": "stdout",
     "output_type": "stream",
     "text": [
      "313/313 [==============================] - 1s 2ms/step - loss: 0.0349 - accuracy: 0.9919\n"
     ]
    },
    {
     "data": {
      "text/plain": [
       "[0.03490452468395233, 0.9919000267982483]"
      ]
     },
     "execution_count": 16,
     "metadata": {},
     "output_type": "execute_result"
    }
   ],
   "source": [
    "cnn.evaluate(x_test, t_test)"
   ]
  },
  {
   "cell_type": "code",
   "execution_count": 15,
   "metadata": {},
   "outputs": [
    {
     "data": {
      "image/png": "[encoded data removed]",
      "text/plain": [
       "<Figure size 1200x600 with 2 Axes>"
      ]
     },
     "metadata": {},
     "output_type": "display_data"
    }
   ],
   "source": [
    "import matplotlib.pyplot as plt\n",
    "plt.figure(figsize=(12, 6))\n",
    "\n",
    "plt.subplot(1, 2, 1)\n",
    "plt.title('Loss')\n",
    "plt.xlabel('epoch')\n",
    "plt.ylabel('loss')\n",
    "plt.plot(hist.history['loss'])\n",
    "plt.plot(hist.history['val_loss'])\n",
    "plt.legend(['loss', 'validation'], loc='best')\n",
    "plt.grid()\n",
    "\n",
    "plt.subplot(1, 2, 2)\n",
    "plt.title('Accuarcy')\n",
    "plt.xlabel('epoch')\n",
    "plt.ylabel('accuracy')\n",
    "plt.plot(hist.history['accuracy'])\n",
    "plt.plot(hist.history['val_accuracy'])\n",
    "plt.legend(['accuracy', 'validation'], loc='best')\n",
    "plt.grid()\n",
    "\n",
    "plt.show()"
   ]
  },
  {
   "cell_type": "markdown",
   "metadata": {},
   "source": [
    "## <span style=\"font-size:25px\">Functional API 사용시 혼동하는 경우</span>"
   ]
  },
  {
   "cell_type": "markdown",
   "metadata": {},
   "source": [
    "<dl>\n",
    "<dt style=\"font-size:20px\">▶ Functional API 모델에서 동일한 의미를 갖지만, 1 line으로 표현할 수 있는 코드를 2 line으로 \n",
    "<br>　 표현한 경우에 있어 일반 함수를 호출하는 경우로 혼동할 수 있음</dt>\n",
    "</dl>"
   ]
  },
  {
   "cell_type": "code",
   "execution_count": 18,
   "metadata": {},
   "outputs": [],
   "source": [
    "input_ = Input(shape=(28, 28, 1))\n",
    "\n",
    "# 동일 코드 | == x = Conv2D(32, 3, activation='relu')(input_)\n",
    "x = Conv2D(32, 3, activation='relu')\n",
    "x = x(input_)\n",
    "\n",
    "x = Conv2D(64, 3, activation='relu')(x)\n",
    "x = MaxPool2D(pool_size=(2, 2))(x)\n",
    "x = Dropout(0.25)(x)\n",
    "\n",
    "x = Flatten()(x)\n",
    "\n",
    "x = Dense(128, activation='relu')(x)\n",
    "x = Dropout(0.5)(x)\n",
    "\n",
    "# 동일 코드 | == output_ = Dense(10, activation='softmax')(x)\n",
    "output_ = Dense(10, activation='softmax')\n",
    "output_ = output_(x)\n",
    "\n",
    "cnn = Model(inputs=input_, outputs=output_)"
   ]
  }
 ],
 "metadata": {
  "kernelspec": {
   "display_name": "tfgpu",
   "language": "python",
   "name": "python3"
  },
  "language_info": {
   "codemirror_mode": {
    "name": "ipython",
    "version": 3
   },
   "file_extension": ".py",
   "mimetype": "text/x-python",
   "name": "python",
   "nbconvert_exporter": "python",
   "pygments_lexer": "ipython3",
   "version": "3.9.13"
  }
 },
 "nbformat": 4,
 "nbformat_minor": 2
}
