{
 "cells": [
  {
   "cell_type": "markdown",
   "metadata": {},
   "source": [
    "# 콜백 함수"
   ]
  },
  {
   "cell_type": "markdown",
   "metadata": {},
   "source": [
    "## <span style=\"font-size:25px\">Concept Callback</span>"
   ]
  },
  {
   "cell_type": "markdown",
   "metadata": {},
   "source": [
    "<img src='picture/TF_img_28_1.png' alt='TF_img_28_1' width=850>"
   ]
  },
  {
   "cell_type": "markdown",
   "metadata": {},
   "source": [
    "<dl>\n",
    "<dt style=\"font-size:20px\">\n",
    "▶ 콜백 함수라는 것은, 특정 상황에서 실행될 함수를 시스템에 등록하고, \n",
    "<br>　 만약 특정 상황이 발생하면 시스템이 자동으로 실행되는 함수이다.\n",
    "</dt>\n",
    "<br>\n",
    "<dt style=\"font-size:20px\">\n",
    "▶ TensorFlow서 사용된느 콜백 함수는 모델의 학습 방향, 저장 시점 그\n",
    "<br>　 리고 학습 정지 시점 등에 관한 모니터링을 위해 사용된다.\n",
    "</dt>\n",
    "<br>\n",
    "<dd>\n",
    "\n",
    "* 예를 들어, 학습 도중에 learning rate를 변화를 주거나 일정시간이 지나\n",
    "<br>도 The val_loss of validation datas가 개선되지 않으면 학습이 저절로\n",
    "<br>멈추기 되는 등의 작업을 할 수 있다.\n",
    "\n",
    "* 이러한 TensorFlow의 콜백 함수는 다음 등이 있다.\n",
    "<br>\n",
    "<br>1. 학습 중에 learning rate의 변화를 줄 수 있는 ReduceLROnPlateau\n",
    "<br>2. 모델의 weight value를 중간에 저장할 수 있는 ModelCheckpoint\n",
    "<br>3. 모델 성능 지표가 일정 시간 동안 개선되지 않을 때 자동으로 종료 할 수\n",
    "<br>　있게 하는 EarlyStopping\n",
    "<br><br>이외 등등이 있다.\n",
    "</dd>\n",
    "</dl>"
   ]
  },
  {
   "cell_type": "markdown",
   "metadata": {},
   "source": [
    "## <span style=\"font-size:25px\">1. 학습률 조정 - ReduceLROnPlateau</span>"
   ]
  },
  {
   "cell_type": "markdown",
   "metadata": {},
   "source": [
    "<dl>\n",
    "<dt style=\"font-size:20px\">\n",
    "▶ 모델의 성능에 개선이 없을 경우, Learning Rate를 자동 조절하여 모델 성능을 \n",
    "<br>　 개선하는 콜백 함수이다.\n",
    "<br>　 factor parameter를 통해 Learning Rate를 조정함 (factor > 1.0)\n",
    "</dt>\n",
    "</dl>"
   ]
  },
  {
   "cell_type": "code",
   "execution_count": null,
   "metadata": {},
   "outputs": [],
   "source": [
    "from tensorflow.keras.callbacks import ReduceLROnPlateau\n",
    "\n",
    "reduceLR = ReduceLROnPlateau(monitor='val_loss',    # val_loss 기준으로 callback 호출\n",
    "                             factor=0.5,            # callback 호출 시 학습률 1/2로 줄임\n",
    "                             patience=3,            # epoch 3 동안 개선 되지 않으면 callback 호출\n",
    "                             verbose=1)             # 로그 출력 형태(0, 1, 2)\n",
    "\n",
    "hist = model.fit(x_train, t_train, \n",
    "                 epochs=50, validation_split=0.2, \n",
    "                 callbacks=[reduceLR])              # callback 함수를 시스템에 등록"
   ]
  },
  {
   "cell_type": "markdown",
   "metadata": {},
   "source": [
    "## <span style=\"font-size:25px\">2. 모델 Weight 중간 저장 - ModelCheckpoint</span>"
   ]
  },
  {
   "cell_type": "markdown",
   "metadata": {},
   "source": [
    "<dl>\n",
    "<dt stlye=\"font-size:20px\">\n",
    "▶ 모델 학습 도중 조건이 만족하게 되면 자동으로 현재의 Weight를 중간 저장함\n",
    "</dt>\n",
    "<br>\n",
    "<dd>\n",
    "\n",
    "* 학습 시간이 오래 걸린다면, 중간에 memory overflow나 crash 등이 나게 되면 \n",
    "<br>그때 가중치를 불러와 학습을 이어갈 수 있기 때문에, 이러한 저장 기능은\n",
    "<br>학습 시간을 단축할 수 있음\n",
    "</dd>\n",
    "</dl>"
   ]
  },
  {
   "cell_type": "code",
   "execution_count": null,
   "metadata": {},
   "outputs": [],
   "source": [
    "from tensorflow.keras.callbacks import ModelCheckpoint\n",
    "\n",
    "file_path = '/modelcheckpoint_test.h5'\n",
    "checkpoint = ModelCheckpoint(file_path,             # 저장할 file_path\n",
    "                             monitor='val_loss',    # val_loss 값이 개선되었을 때 호출 \n",
    "                             verbose=1,             # log 출력(0, 1, 2)\n",
    "                             save_best_only=True,   # best 값만 저장\n",
    "                             mode='auto')           # auto는 자동으로 best를 찾음\n",
    "\n",
    "hist = model.fit(x_train, t_train, \n",
    "                 epochs=50, validation_split=0.2, \n",
    "                 callbacks=[checkpoint])            # callback 함수를 시스템에 등록"
   ]
  },
  {
   "cell_type": "markdown",
   "metadata": {},
   "source": [
    "## <span style=\"font-size:25px\">3. 학습 조기 종료 - EarlyStopping</span>"
   ]
  },
  {
   "cell_type": "markdown",
   "metadata": {},
   "source": [
    "<dl>\n",
    "<dt style=\"font-size:20px\">\n",
    "▶ 설정한 epoch 동안 개선이 되지 않을 경우 모델 학습을 조기 종료함\n",
    "</dt>\n",
    "<br>\n",
    "<dd>\n",
    "\n",
    "* 일반적으로 EarlyStopping과 ModelCheckpoint 조합을 통해서, 개선되지 않는 \n",
    "<br>학습을 조기 종료하고, ModelCheckpoint에서 가장 best model을 다시 load\n",
    "<br>하여 학습을 재게하는 경우가 일반적임\n",
    "</dd>\n",
    "</dl>"
   ]
  },
  {
   "cell_type": "code",
   "execution_count": null,
   "metadata": {},
   "outputs": [],
   "source": [
    "from tensorflow.keras.callbacks import ModelCheckpoint, EarlyStopping\n",
    "\n",
    "file_path = './modelchpoint_test.h5'\n",
    "\n",
    "checkpoint = ModelCheckpoint(file_path, \n",
    "                             monitor='val_loss', \n",
    "                             verbose=1, \n",
    "                             save_best_only=True, \n",
    "                             mode='auto')\n",
    "\n",
    "stopping = EarlyStopping(monitor='val_loss', \n",
    "                         patience=5)\n",
    "\n",
    "hist = model.fit(x_train, t_train, \n",
    "                 epochs=50, validation_split=0.2, \n",
    "                 callbacks=[checkpoint, stopping])"
   ]
  },
  {
   "cell_type": "markdown",
   "metadata": {},
   "source": [
    "## <span style=\"font-size:25px\">Deep Learning MNIST Example</span>"
   ]
  },
  {
   "cell_type": "code",
   "execution_count": 21,
   "metadata": {},
   "outputs": [
    {
     "name": "stdout",
     "output_type": "stream",
     "text": [
      "train shape: (60000, 28, 28), train label shape: (60000,) \n",
      "test shape: (10000, 28, 28), test label shape: (10000,)\n",
      "train label: [5 0 4 ... 5 6 8]\n",
      "test label:  [7 2 1 ... 4 5 6]\n"
     ]
    }
   ],
   "source": [
    "import tensorflow as tf\n",
    "from tensorflow.keras.datasets import mnist\n",
    "from tensorflow.keras.models import Sequential\n",
    "from tensorflow.keras.layers import Flatten, Dense, Dropout\n",
    "from tensorflow.keras.optimizers import Adam\n",
    "from tensorflow.keras.utils import to_categorical\n",
    "\n",
    "(x_train, t_train), (x_test, t_test) = mnist.load_data()\n",
    "\n",
    "print(f\"train shape: {x_train.shape}, train label shape: {t_train.shape}\", \n",
    "      f\"\\ntest shape: {x_test.shape}, test label shape: {t_test.shape}\")\n",
    "\n",
    "print(f'train label: {t_train}\\ntest label:  {t_test}')"
   ]
  },
  {
   "cell_type": "code",
   "execution_count": 17,
   "metadata": {},
   "outputs": [
    {
     "data": {
      "image/png": "[encoded data removed]",
      "text/plain": [
       "<Figure size 1200x500 with 25 Axes>"
      ]
     },
     "metadata": {},
     "output_type": "display_data"
    }
   ],
   "source": [
    "import matplotlib.pyplot as plt\n",
    "plt.figure(figsize=(12, 5))\n",
    "for i in range(5**2):\n",
    "    plt.subplot(5, 5, i+1)\n",
    "    plt.imshow(x_train[i], cmap='gray')\n",
    "    plt.axis('off')\n",
    "plt.show()"
   ]
  },
  {
   "cell_type": "code",
   "execution_count": 27,
   "metadata": {},
   "outputs": [],
   "source": [
    "x_train, x_test = (x_train - 0.0) / (255.0 - 0.0), (x_test - 0.0) / (255.0 - 0.0)\n",
    "\n",
    "t_train = to_categorical(t_train, num_classes=10)\n",
    "t_test = to_categorical(t_test, num_classes=10)"
   ]
  },
  {
   "cell_type": "code",
   "execution_count": 28,
   "metadata": {},
   "outputs": [
    {
     "name": "stdout",
     "output_type": "stream",
     "text": [
      "Model: \"sequential_2\"\n",
      "_________________________________________________________________\n",
      " Layer (type)                Output Shape              Param #   \n",
      "=================================================================\n",
      " flatten_2 (Flatten)         (None, 784)               0         \n",
      "                                                                 \n",
      " dense_4 (Dense)             (None, 120)               94200     \n",
      "                                                                 \n",
      " dense_5 (Dense)             (None, 10)                1210      \n",
      "                                                                 \n",
      "=================================================================\n",
      "Total params: 95,410\n",
      "Trainable params: 95,410\n",
      "Non-trainable params: 0\n",
      "_________________________________________________________________\n"
     ]
    }
   ],
   "source": [
    "model = Sequential([\n",
    "    Flatten(input_shape=(28, 28, 1)),\n",
    "    Dense(120, activation='relu'),\n",
    "    Dense(10, activation='softmax')\n",
    "])\n",
    "model.compile(optimizer=Adam(1e-3), \n",
    "              loss='categorical_crossentropy', \n",
    "              metrics=['accuracy'])\n",
    "model.summary()"
   ]
  },
  {
   "cell_type": "code",
   "execution_count": 30,
   "metadata": {},
   "outputs": [
    {
     "name": "stdout",
     "output_type": "stream",
     "text": [
      "Epoch 1/30\n",
      "1487/1500 [============================>.] - ETA: 0s - loss: 0.0614 - accuracy: 0.9817\n",
      "Epoch 1: val_loss improved from inf to 0.09564, saving model to .\\modelchpoint_test.h5\n",
      "1500/1500 [==============================] - 6s 4ms/step - loss: 0.0613 - accuracy: 0.9817 - val_loss: 0.0956 - val_accuracy: 0.9714\n",
      "Epoch 2/30\n",
      "1499/1500 [============================>.] - ETA: 0s - loss: 0.0465 - accuracy: 0.9858\n",
      "Epoch 2: val_loss improved from 0.09564 to 0.09043, saving model to .\\modelchpoint_test.h5\n",
      "1500/1500 [==============================] - 5s 3ms/step - loss: 0.0465 - accuracy: 0.9858 - val_loss: 0.0904 - val_accuracy: 0.9746\n",
      "Epoch 3/30\n",
      "1497/1500 [============================>.] - ETA: 0s - loss: 0.0375 - accuracy: 0.9887\n",
      "Epoch 3: val_loss did not improve from 0.09043\n",
      "1500/1500 [==============================] - 5s 3ms/step - loss: 0.0375 - accuracy: 0.9887 - val_loss: 0.0909 - val_accuracy: 0.9747\n",
      "Epoch 4/30\n",
      "1484/1500 [============================>.] - ETA: 0s - loss: 0.0292 - accuracy: 0.9913\n",
      "Epoch 4: val_loss did not improve from 0.09043\n",
      "1500/1500 [==============================] - 5s 3ms/step - loss: 0.0290 - accuracy: 0.9913 - val_loss: 0.0918 - val_accuracy: 0.9746\n",
      "Epoch 5/30\n",
      "1497/1500 [============================>.] - ETA: 0s - loss: 0.0238 - accuracy: 0.9928\n",
      "Epoch 5: val_loss did not improve from 0.09043\n",
      "1500/1500 [==============================] - 5s 3ms/step - loss: 0.0238 - accuracy: 0.9928 - val_loss: 0.0944 - val_accuracy: 0.9748\n",
      "Epoch 6/30\n",
      "1485/1500 [============================>.] - ETA: 0s - loss: 0.0212 - accuracy: 0.9933\n",
      "Epoch 6: val_loss did not improve from 0.09043\n",
      "1500/1500 [==============================] - 4s 3ms/step - loss: 0.0213 - accuracy: 0.9933 - val_loss: 0.0946 - val_accuracy: 0.9753\n",
      "Epoch 7/30\n",
      "1494/1500 [============================>.] - ETA: 0s - loss: 0.0157 - accuracy: 0.9956\n",
      "Epoch 7: val_loss did not improve from 0.09043\n",
      "1500/1500 [==============================] - 5s 3ms/step - loss: 0.0156 - accuracy: 0.9956 - val_loss: 0.1095 - val_accuracy: 0.9725\n",
      "Epoch 7: early stopping\n"
     ]
    }
   ],
   "source": [
    "from tensorflow.keras.callbacks import ModelCheckpoint, EarlyStopping\n",
    "\n",
    "file_path = './modelchpoint_test.h5'\n",
    "\n",
    "checkpoint = ModelCheckpoint(file_path, \n",
    "                             monitor='val_loss', \n",
    "                             verbose=1, \n",
    "                             save_best_only=True, \n",
    "                             mode='auto')\n",
    "\n",
    "stopping = EarlyStopping(monitor='val_loss', \n",
    "                         verbose=1, \n",
    "                         patience=5)\n",
    "\n",
    "hist1 = model.fit(x_train, t_train, \n",
    "                  epochs=30, validation_split=0.2, \n",
    "                  callbacks=[checkpoint, stopping])"
   ]
  },
  {
   "cell_type": "code",
   "execution_count": 31,
   "metadata": {},
   "outputs": [
    {
     "name": "stdout",
     "output_type": "stream",
     "text": [
      "Epoch 1/30\n",
      "1500/1500 [==============================] - 6s 4ms/step - loss: 0.0138 - accuracy: 0.9958 - val_loss: 0.1038 - val_accuracy: 0.9726 - lr: 0.0010\n",
      "Epoch 2/30\n",
      "1500/1500 [==============================] - 5s 3ms/step - loss: 0.0113 - accuracy: 0.9966 - val_loss: 0.1033 - val_accuracy: 0.9769 - lr: 0.0010\n",
      "Epoch 3/30\n",
      "1500/1500 [==============================] - 5s 4ms/step - loss: 0.0114 - accuracy: 0.9966 - val_loss: 0.0990 - val_accuracy: 0.9758 - lr: 0.0010\n",
      "Epoch 4/30\n",
      "1500/1500 [==============================] - 5s 4ms/step - loss: 0.0074 - accuracy: 0.9979 - val_loss: 0.1101 - val_accuracy: 0.9741 - lr: 0.0010\n",
      "Epoch 5/30\n",
      "1500/1500 [==============================] - 5s 3ms/step - loss: 0.0093 - accuracy: 0.9973 - val_loss: 0.1123 - val_accuracy: 0.9761 - lr: 0.0010\n",
      "Epoch 6/30\n",
      "1496/1500 [============================>.] - ETA: 0s - loss: 0.0070 - accuracy: 0.9980\n",
      "Epoch 6: ReduceLROnPlateau reducing learning rate to 0.0005000000237487257.\n",
      "1500/1500 [==============================] - 5s 3ms/step - loss: 0.0070 - accuracy: 0.9980 - val_loss: 0.1045 - val_accuracy: 0.9775 - lr: 0.0010\n",
      "Epoch 7/30\n",
      "1500/1500 [==============================] - 5s 4ms/step - loss: 0.0023 - accuracy: 0.9997 - val_loss: 0.1005 - val_accuracy: 0.9787 - lr: 5.0000e-04\n",
      "Epoch 8/30\n",
      "1500/1500 [==============================] - 6s 4ms/step - loss: 0.0013 - accuracy: 0.9999 - val_loss: 0.1048 - val_accuracy: 0.9794 - lr: 5.0000e-04\n",
      "Epoch 9/30\n",
      "1484/1500 [============================>.] - ETA: 0s - loss: 0.0013 - accuracy: 0.9998\n",
      "Epoch 9: ReduceLROnPlateau reducing learning rate to 0.0002500000118743628.\n",
      "1500/1500 [==============================] - 5s 4ms/step - loss: 0.0013 - accuracy: 0.9998 - val_loss: 0.1168 - val_accuracy: 0.9771 - lr: 5.0000e-04\n",
      "Epoch 10/30\n",
      "1500/1500 [==============================] - 6s 4ms/step - loss: 8.5865e-04 - accuracy: 0.9999 - val_loss: 0.1034 - val_accuracy: 0.9803 - lr: 2.5000e-04\n",
      "Epoch 11/30\n",
      "1500/1500 [==============================] - 5s 3ms/step - loss: 4.4003e-04 - accuracy: 1.0000 - val_loss: 0.1055 - val_accuracy: 0.9805 - lr: 2.5000e-04\n",
      "Epoch 12/30\n",
      "1485/1500 [============================>.] - ETA: 0s - loss: 3.8696e-04 - accuracy: 1.0000\n",
      "Epoch 12: ReduceLROnPlateau reducing learning rate to 0.0001250000059371814.\n",
      "1500/1500 [==============================] - 5s 3ms/step - loss: 3.8658e-04 - accuracy: 1.0000 - val_loss: 0.1060 - val_accuracy: 0.9803 - lr: 2.5000e-04\n",
      "Epoch 13/30\n",
      "1500/1500 [==============================] - 5s 3ms/step - loss: 2.9766e-04 - accuracy: 1.0000 - val_loss: 0.1052 - val_accuracy: 0.9806 - lr: 1.2500e-04\n",
      "Epoch 14/30\n",
      "1500/1500 [==============================] - 5s 3ms/step - loss: 2.6351e-04 - accuracy: 1.0000 - val_loss: 0.1082 - val_accuracy: 0.9802 - lr: 1.2500e-04\n",
      "Epoch 15/30\n",
      "1498/1500 [============================>.] - ETA: 0s - loss: 2.2839e-04 - accuracy: 1.0000\n",
      "Epoch 15: ReduceLROnPlateau reducing learning rate to 6.25000029685907e-05.\n",
      "1500/1500 [==============================] - 5s 3ms/step - loss: 2.2833e-04 - accuracy: 1.0000 - val_loss: 0.1080 - val_accuracy: 0.9803 - lr: 1.2500e-04\n",
      "Epoch 16/30\n",
      "1500/1500 [==============================] - 5s 3ms/step - loss: 1.8537e-04 - accuracy: 1.0000 - val_loss: 0.1092 - val_accuracy: 0.9806 - lr: 6.2500e-05\n",
      "Epoch 17/30\n",
      "1500/1500 [==============================] - 5s 3ms/step - loss: 1.7352e-04 - accuracy: 1.0000 - val_loss: 0.1105 - val_accuracy: 0.9802 - lr: 6.2500e-05\n",
      "Epoch 18/30\n",
      "1494/1500 [============================>.] - ETA: 0s - loss: 1.5951e-04 - accuracy: 1.0000\n",
      "Epoch 18: ReduceLROnPlateau reducing learning rate to 3.125000148429535e-05.\n",
      "1500/1500 [==============================] - 5s 3ms/step - loss: 1.5943e-04 - accuracy: 1.0000 - val_loss: 0.1115 - val_accuracy: 0.9806 - lr: 6.2500e-05\n",
      "Epoch 19/30\n",
      "1500/1500 [==============================] - 4s 3ms/step - loss: 1.4160e-04 - accuracy: 1.0000 - val_loss: 0.1119 - val_accuracy: 0.9805 - lr: 3.1250e-05\n",
      "Epoch 20/30\n",
      "1500/1500 [==============================] - 5s 3ms/step - loss: 1.3536e-04 - accuracy: 1.0000 - val_loss: 0.1123 - val_accuracy: 0.9803 - lr: 3.1250e-05\n",
      "Epoch 21/30\n",
      "1482/1500 [============================>.] - ETA: 0s - loss: 1.2991e-04 - accuracy: 1.0000\n",
      "Epoch 21: ReduceLROnPlateau reducing learning rate to 1.5625000742147677e-05.\n",
      "1500/1500 [==============================] - 5s 3ms/step - loss: 1.2933e-04 - accuracy: 1.0000 - val_loss: 0.1129 - val_accuracy: 0.9808 - lr: 3.1250e-05\n",
      "Epoch 22/30\n",
      "1500/1500 [==============================] - 4s 3ms/step - loss: 1.2144e-04 - accuracy: 1.0000 - val_loss: 0.1128 - val_accuracy: 0.9806 - lr: 1.5625e-05\n",
      "Epoch 23/30\n",
      "1500/1500 [==============================] - 4s 3ms/step - loss: 1.1915e-04 - accuracy: 1.0000 - val_loss: 0.1131 - val_accuracy: 0.9805 - lr: 1.5625e-05\n",
      "Epoch 24/30\n",
      "1492/1500 [============================>.] - ETA: 0s - loss: 1.1636e-04 - accuracy: 1.0000\n",
      "Epoch 24: ReduceLROnPlateau reducing learning rate to 7.812500371073838e-06.\n",
      "1500/1500 [==============================] - 5s 3ms/step - loss: 1.1629e-04 - accuracy: 1.0000 - val_loss: 0.1135 - val_accuracy: 0.9805 - lr: 1.5625e-05\n",
      "Epoch 25/30\n",
      "1500/1500 [==============================] - 5s 3ms/step - loss: 1.1234e-04 - accuracy: 1.0000 - val_loss: 0.1135 - val_accuracy: 0.9804 - lr: 7.8125e-06\n",
      "Epoch 26/30\n",
      "1500/1500 [==============================] - 5s 4ms/step - loss: 1.1107e-04 - accuracy: 1.0000 - val_loss: 0.1136 - val_accuracy: 0.9804 - lr: 7.8125e-06\n",
      "Epoch 27/30\n",
      "1488/1500 [============================>.] - ETA: 0s - loss: 1.1018e-04 - accuracy: 1.0000\n",
      "Epoch 27: ReduceLROnPlateau reducing learning rate to 3.906250185536919e-06.\n",
      "1500/1500 [==============================] - 5s 3ms/step - loss: 1.0982e-04 - accuracy: 1.0000 - val_loss: 0.1137 - val_accuracy: 0.9805 - lr: 7.8125e-06\n",
      "Epoch 28/30\n",
      "1500/1500 [==============================] - 5s 4ms/step - loss: 1.0781e-04 - accuracy: 1.0000 - val_loss: 0.1138 - val_accuracy: 0.9804 - lr: 3.9063e-06\n",
      "Epoch 29/30\n",
      "1500/1500 [==============================] - 5s 3ms/step - loss: 1.0719e-04 - accuracy: 1.0000 - val_loss: 0.1138 - val_accuracy: 0.9804 - lr: 3.9063e-06\n",
      "Epoch 30/30\n",
      "1491/1500 [============================>.] - ETA: 0s - loss: 1.0667e-04 - accuracy: 1.0000\n",
      "Epoch 30: ReduceLROnPlateau reducing learning rate to 1.9531250927684596e-06.\n",
      "1500/1500 [==============================] - 5s 3ms/step - loss: 1.0660e-04 - accuracy: 1.0000 - val_loss: 0.1139 - val_accuracy: 0.9804 - lr: 3.9063e-06\n"
     ]
    }
   ],
   "source": [
    "from tensorflow.keras.callbacks import ReduceLROnPlateau\n",
    "\n",
    "reduceLR = ReduceLROnPlateau(monitor='val_loss', factor=0.5, \n",
    "                             patience=3, verbose=1)\n",
    "\n",
    "hist2 = model.fit(x_train, t_train, epochs=30, validation_split=0.2, callbacks=[reduceLR])"
   ]
  }
 ],
 "metadata": {
  "kernelspec": {
   "display_name": "tfgpu",
   "language": "python",
   "name": "python3"
  },
  "language_info": {
   "codemirror_mode": {
    "name": "ipython",
    "version": 3
   },
   "file_extension": ".py",
   "mimetype": "text/x-python",
   "name": "python",
   "nbconvert_exporter": "python",
   "pygments_lexer": "ipython3",
   "version": "3.9.13"
  }
 },
 "nbformat": 4,
 "nbformat_minor": 2
}
